{
 "cells": [
  {
   "cell_type": "code",
   "execution_count": 1,
   "id": "b3ca5e5c",
   "metadata": {
    "_cell_guid": "b1076dfc-b9ad-4769-8c92-a6c4dae69d19",
    "_uuid": "8f2839f25d086af736a60e9eeb907d3b93b6e0e5",
    "execution": {
     "iopub.execute_input": "2024-01-14T17:59:31.433272Z",
     "iopub.status.busy": "2024-01-14T17:59:31.432889Z",
     "iopub.status.idle": "2024-01-14T17:59:31.856685Z",
     "shell.execute_reply": "2024-01-14T17:59:31.855731Z"
    },
    "papermill": {
     "duration": 0.433678,
     "end_time": "2024-01-14T17:59:31.860142",
     "exception": false,
     "start_time": "2024-01-14T17:59:31.426464",
     "status": "completed"
    },
    "tags": []
   },
   "outputs": [
    {
     "name": "stdout",
     "output_type": "stream",
     "text": [
      "/kaggle/input/ipl-players-sold-2024/TOP_BUYS.csv\n",
      "/kaggle/input/ipl-players-sold-2024/UNSOLD_PLAYERS.csv\n",
      "/kaggle/input/ipl-players-sold-2024/IPL_PLAYERS.csv\n"
     ]
    }
   ],
   "source": [
    "# This Python 3 environment comes with many helpful analytics libraries installed\n",
    "# It is defined by the kaggle/python Docker image: https://github.com/kaggle/docker-python\n",
    "# For example, here's several helpful packages to load\n",
    "\n",
    "import numpy as np # linear algebra\n",
    "import pandas as pd # data processing, CSV file I/O (e.g. pd.read_csv)\n",
    "\n",
    "# Input data files are available in the read-only \"../input/\" directory\n",
    "# For example, running this (by clicking run or pressing Shift+Enter) will list all files under the input directory\n",
    "\n",
    "import os\n",
    "for dirname, _, filenames in os.walk('/kaggle/input'):\n",
    "    for filename in filenames:\n",
    "        print(os.path.join(dirname, filename))\n",
    "\n",
    "# You can write up to 20GB to the current directory (/kaggle/working/) that gets preserved as output when you create a version using \"Save & Run All\" \n",
    "# You can also write temporary files to /kaggle/temp/, but they won't be saved outside of the current session"
   ]
  },
  {
   "cell_type": "code",
   "execution_count": 2,
   "id": "31c6fef7",
   "metadata": {
    "execution": {
     "iopub.execute_input": "2024-01-14T17:59:31.870804Z",
     "iopub.status.busy": "2024-01-14T17:59:31.869664Z",
     "iopub.status.idle": "2024-01-14T17:59:31.913417Z",
     "shell.execute_reply": "2024-01-14T17:59:31.912397Z"
    },
    "papermill": {
     "duration": 0.0514,
     "end_time": "2024-01-14T17:59:31.915929",
     "exception": false,
     "start_time": "2024-01-14T17:59:31.864529",
     "status": "completed"
    },
    "tags": []
   },
   "outputs": [
    {
     "data": {
      "text/html": [
       "<div>\n",
       "<style scoped>\n",
       "    .dataframe tbody tr th:only-of-type {\n",
       "        vertical-align: middle;\n",
       "    }\n",
       "\n",
       "    .dataframe tbody tr th {\n",
       "        vertical-align: top;\n",
       "    }\n",
       "\n",
       "    .dataframe thead th {\n",
       "        text-align: right;\n",
       "    }\n",
       "</style>\n",
       "<table border=\"1\" class=\"dataframe\">\n",
       "  <thead>\n",
       "    <tr style=\"text-align: right;\">\n",
       "      <th></th>\n",
       "      <th>PLAYERS</th>\n",
       "      <th>NATIONALITY</th>\n",
       "      <th>TYPE</th>\n",
       "      <th>PRICE PAID</th>\n",
       "      <th>TEAM</th>\n",
       "    </tr>\n",
       "  </thead>\n",
       "  <tbody>\n",
       "    <tr>\n",
       "      <th>0</th>\n",
       "      <td>Avanish Rao Aravelly</td>\n",
       "      <td>Indian</td>\n",
       "      <td>Wicket-Keeper</td>\n",
       "      <td>2000000</td>\n",
       "      <td>CSK</td>\n",
       "    </tr>\n",
       "    <tr>\n",
       "      <th>1</th>\n",
       "      <td>Mustafizur Rahman</td>\n",
       "      <td>Overseas</td>\n",
       "      <td>Bowler</td>\n",
       "      <td>20000000</td>\n",
       "      <td>CSK</td>\n",
       "    </tr>\n",
       "    <tr>\n",
       "      <th>2</th>\n",
       "      <td>Daryl Mitchell</td>\n",
       "      <td>Overseas</td>\n",
       "      <td>All-Rounder</td>\n",
       "      <td>140000000</td>\n",
       "      <td>CSK</td>\n",
       "    </tr>\n",
       "    <tr>\n",
       "      <th>3</th>\n",
       "      <td>Sameer Rizvi</td>\n",
       "      <td>Indian</td>\n",
       "      <td>Batter</td>\n",
       "      <td>84000000</td>\n",
       "      <td>CSK</td>\n",
       "    </tr>\n",
       "    <tr>\n",
       "      <th>4</th>\n",
       "      <td>Rachin Ravindra</td>\n",
       "      <td>Overseas</td>\n",
       "      <td>All-Rounder</td>\n",
       "      <td>18000000</td>\n",
       "      <td>CSK</td>\n",
       "    </tr>\n",
       "    <tr>\n",
       "      <th>...</th>\n",
       "      <td>...</td>\n",
       "      <td>...</td>\n",
       "      <td>...</td>\n",
       "      <td>...</td>\n",
       "      <td>...</td>\n",
       "    </tr>\n",
       "    <tr>\n",
       "      <th>67</th>\n",
       "      <td>Akash Singh</td>\n",
       "      <td>Indian</td>\n",
       "      <td>Bowler</td>\n",
       "      <td>2000000</td>\n",
       "      <td>SH</td>\n",
       "    </tr>\n",
       "    <tr>\n",
       "      <th>68</th>\n",
       "      <td>Jaydev Unadkat</td>\n",
       "      <td>Indian</td>\n",
       "      <td>Bowler</td>\n",
       "      <td>16000000</td>\n",
       "      <td>SH</td>\n",
       "    </tr>\n",
       "    <tr>\n",
       "      <th>69</th>\n",
       "      <td>Wanindu Hasaranga</td>\n",
       "      <td>Overseas</td>\n",
       "      <td>All-Rounder</td>\n",
       "      <td>15000000</td>\n",
       "      <td>SH</td>\n",
       "    </tr>\n",
       "    <tr>\n",
       "      <th>70</th>\n",
       "      <td>Pat Cummins</td>\n",
       "      <td>Overseas</td>\n",
       "      <td>All-Rounder</td>\n",
       "      <td>205000000</td>\n",
       "      <td>SH</td>\n",
       "    </tr>\n",
       "    <tr>\n",
       "      <th>71</th>\n",
       "      <td>Travis Head</td>\n",
       "      <td>Overseas</td>\n",
       "      <td>Batter</td>\n",
       "      <td>68000000</td>\n",
       "      <td>SH</td>\n",
       "    </tr>\n",
       "  </tbody>\n",
       "</table>\n",
       "<p>72 rows × 5 columns</p>\n",
       "</div>"
      ],
      "text/plain": [
       "                 PLAYERS NATIONALITY           TYPE  PRICE PAID TEAM\n",
       "0   Avanish Rao Aravelly      Indian  Wicket-Keeper     2000000  CSK\n",
       "1      Mustafizur Rahman    Overseas         Bowler    20000000  CSK\n",
       "2         Daryl Mitchell    Overseas    All-Rounder   140000000  CSK\n",
       "3           Sameer Rizvi      Indian         Batter    84000000  CSK\n",
       "4        Rachin Ravindra    Overseas    All-Rounder    18000000  CSK\n",
       "..                   ...         ...            ...         ...  ...\n",
       "67           Akash Singh      Indian         Bowler     2000000   SH\n",
       "68        Jaydev Unadkat      Indian         Bowler    16000000   SH\n",
       "69     Wanindu Hasaranga    Overseas    All-Rounder    15000000   SH\n",
       "70           Pat Cummins    Overseas    All-Rounder   205000000   SH\n",
       "71           Travis Head    Overseas         Batter    68000000   SH\n",
       "\n",
       "[72 rows x 5 columns]"
      ]
     },
     "execution_count": 2,
     "metadata": {},
     "output_type": "execute_result"
    }
   ],
   "source": [
    "data = pd.read_csv(\"/kaggle/input/ipl-players-sold-2024/IPL_PLAYERS.csv\")\n",
    "data"
   ]
  },
  {
   "cell_type": "markdown",
   "id": "b850044e",
   "metadata": {
    "execution": {
     "iopub.execute_input": "2024-01-14T15:30:28.033634Z",
     "iopub.status.busy": "2024-01-14T15:30:28.033185Z",
     "iopub.status.idle": "2024-01-14T15:30:28.038885Z",
     "shell.execute_reply": "2024-01-14T15:30:28.037694Z",
     "shell.execute_reply.started": "2024-01-14T15:30:28.033599Z"
    },
    "papermill": {
     "duration": 0.003783,
     "end_time": "2024-01-14T17:59:31.923947",
     "exception": false,
     "start_time": "2024-01-14T17:59:31.920164",
     "status": "completed"
    },
    "tags": []
   },
   "source": [
    "### Preprocessing Steps\n",
    "1. Handling Missing Data:\n",
    "2. Ensure that the data types of columns are appropriate\n",
    "1. Duplicates\n",
    "1. Standardize or clean column names\n",
    "1. Handling Outliers: Identify and decide on a strategy for handling outliers \n",
    "1. Categorical Variables: Encode categorical variables\n",
    "1. Feature Scaling: scale numerical features \n",
    "1. Exploratory Data Analysis (EDA): Visualize the data using plots (histograms, scatter plots, etc.) to understand distributions and relationships.\n",
    "1. Handling Irrelevant Columns: Remove columns that are not useful for analysis or modeling."
   ]
  },
  {
   "cell_type": "markdown",
   "id": "5bc5a500",
   "metadata": {
    "papermill": {
     "duration": 0.003714,
     "end_time": "2024-01-14T17:59:31.931621",
     "exception": false,
     "start_time": "2024-01-14T17:59:31.927907",
     "status": "completed"
    },
    "tags": []
   },
   "source": [
    "#### 1. Check for missing data\n",
    "> There is no missing value in the dataset."
   ]
  },
  {
   "cell_type": "code",
   "execution_count": 3,
   "id": "c91d95f6",
   "metadata": {
    "execution": {
     "iopub.execute_input": "2024-01-14T17:59:31.941385Z",
     "iopub.status.busy": "2024-01-14T17:59:31.940964Z",
     "iopub.status.idle": "2024-01-14T17:59:31.951151Z",
     "shell.execute_reply": "2024-01-14T17:59:31.949984Z"
    },
    "papermill": {
     "duration": 0.017805,
     "end_time": "2024-01-14T17:59:31.953465",
     "exception": false,
     "start_time": "2024-01-14T17:59:31.935660",
     "status": "completed"
    },
    "tags": []
   },
   "outputs": [
    {
     "data": {
      "text/plain": [
       "PLAYERS        0\n",
       "NATIONALITY    0\n",
       "TYPE           0\n",
       "PRICE PAID     0\n",
       "TEAM           0\n",
       "dtype: int64"
      ]
     },
     "execution_count": 3,
     "metadata": {},
     "output_type": "execute_result"
    }
   ],
   "source": [
    "data.isnull().sum()"
   ]
  },
  {
   "cell_type": "markdown",
   "id": "a5e3dab8",
   "metadata": {
    "papermill": {
     "duration": 0.003985,
     "end_time": "2024-01-14T17:59:31.961828",
     "exception": false,
     "start_time": "2024-01-14T17:59:31.957843",
     "status": "completed"
    },
    "tags": []
   },
   "source": [
    "#### 2. Ch"
   ]
  },
  {
   "cell_type": "code",
   "execution_count": null,
   "id": "21fdeef8",
   "metadata": {
    "papermill": {
     "duration": 0.003818,
     "end_time": "2024-01-14T17:59:31.969781",
     "exception": false,
     "start_time": "2024-01-14T17:59:31.965963",
     "status": "completed"
    },
    "tags": []
   },
   "outputs": [],
   "source": []
  },
  {
   "cell_type": "code",
   "execution_count": null,
   "id": "2dc1654a",
   "metadata": {
    "papermill": {
     "duration": 0.003893,
     "end_time": "2024-01-14T17:59:31.977981",
     "exception": false,
     "start_time": "2024-01-14T17:59:31.974088",
     "status": "completed"
    },
    "tags": []
   },
   "outputs": [],
   "source": []
  },
  {
   "cell_type": "markdown",
   "id": "b3691167",
   "metadata": {
    "papermill": {
     "duration": 0.003941,
     "end_time": "2024-01-14T17:59:31.986070",
     "exception": false,
     "start_time": "2024-01-14T17:59:31.982129",
     "status": "completed"
    },
    "tags": []
   },
   "source": [
    "## Showcasing the top 10 most expensive players"
   ]
  },
  {
   "cell_type": "code",
   "execution_count": null,
   "id": "e54ad265",
   "metadata": {
    "papermill": {
     "duration": 0.003927,
     "end_time": "2024-01-14T17:59:31.994108",
     "exception": false,
     "start_time": "2024-01-14T17:59:31.990181",
     "status": "completed"
    },
    "tags": []
   },
   "outputs": [],
   "source": []
  }
 ],
 "metadata": {
  "kaggle": {
   "accelerator": "none",
   "dataSources": [
    {
     "datasetId": 4199626,
     "sourceId": 7248789,
     "sourceType": "datasetVersion"
    }
   ],
   "dockerImageVersionId": 30635,
   "isGpuEnabled": false,
   "isInternetEnabled": true,
   "language": "python",
   "sourceType": "notebook"
  },
  "kernelspec": {
   "display_name": "Python 3",
   "language": "python",
   "name": "python3"
  },
  "language_info": {
   "codemirror_mode": {
    "name": "ipython",
    "version": 3
   },
   "file_extension": ".py",
   "mimetype": "text/x-python",
   "name": "python",
   "nbconvert_exporter": "python",
   "pygments_lexer": "ipython3",
   "version": "3.10.12"
  },
  "papermill": {
   "default_parameters": {},
   "duration": 4.355725,
   "end_time": "2024-01-14T17:59:32.417605",
   "environment_variables": {},
   "exception": null,
   "input_path": "__notebook__.ipynb",
   "output_path": "__notebook__.ipynb",
   "parameters": {},
   "start_time": "2024-01-14T17:59:28.061880",
   "version": "2.4.0"
  }
 },
 "nbformat": 4,
 "nbformat_minor": 5
}

{
 "cells": [
  {
   "cell_type": "code",
   "execution_count": 1,
   "id": "1b074d07",
   "metadata": {
    "_cell_guid": "b1076dfc-b9ad-4769-8c92-a6c4dae69d19",
    "_uuid": "8f2839f25d086af736a60e9eeb907d3b93b6e0e5",
    "execution": {
     "iopub.execute_input": "2024-01-14T18:42:23.138704Z",
     "iopub.status.busy": "2024-01-14T18:42:23.138370Z",
     "iopub.status.idle": "2024-01-14T18:42:23.468972Z",
     "shell.execute_reply": "2024-01-14T18:42:23.467953Z"
    },
    "papermill": {
     "duration": 0.342089,
     "end_time": "2024-01-14T18:42:23.470958",
     "exception": false,
     "start_time": "2024-01-14T18:42:23.128869",
     "status": "completed"
    },
    "tags": []
   },
   "outputs": [
    {
     "name": "stdout",
     "output_type": "stream",
     "text": [
      "/kaggle/input/ipl-players-sold-2024/TOP_BUYS.csv\n",
      "/kaggle/input/ipl-players-sold-2024/UNSOLD_PLAYERS.csv\n",
      "/kaggle/input/ipl-players-sold-2024/IPL_PLAYERS.csv\n"
     ]
    }
   ],
   "source": [
    "# This Python 3 environment comes with many helpful analytics libraries installed\n",
    "# It is defined by the kaggle/python Docker image: https://github.com/kaggle/docker-python\n",
    "# For example, here's several helpful packages to load\n",
    "\n",
    "import numpy as np # linear algebra\n",
    "import pandas as pd # data processing, CSV file I/O (e.g. pd.read_csv)\n",
    "\n",
    "# Input data files are available in the read-only \"../input/\" directory\n",
    "# For example, running this (by clicking run or pressing Shift+Enter) will list all files under the input directory\n",
    "\n",
    "import os\n",
    "for dirname, _, filenames in os.walk('/kaggle/input'):\n",
    "    for filename in filenames:\n",
    "        print(os.path.join(dirname, filename))\n",
    "\n",
    "# You can write up to 20GB to the current directory (/kaggle/working/) that gets preserved as output when you create a version using \"Save & Run All\" \n",
    "# You can also write temporary files to /kaggle/temp/, but they won't be saved outside of the current session"
   ]
  },
  {
   "cell_type": "code",
   "execution_count": 2,
   "id": "c813b2ca",
   "metadata": {
    "execution": {
     "iopub.execute_input": "2024-01-14T18:42:23.488502Z",
     "iopub.status.busy": "2024-01-14T18:42:23.487959Z",
     "iopub.status.idle": "2024-01-14T18:42:23.537435Z",
     "shell.execute_reply": "2024-01-14T18:42:23.536185Z"
    },
    "papermill": {
     "duration": 0.060576,
     "end_time": "2024-01-14T18:42:23.539686",
     "exception": false,
     "start_time": "2024-01-14T18:42:23.479110",
     "status": "completed"
    },
    "tags": []
   },
   "outputs": [
    {
     "data": {
      "text/html": [
       "<div>\n",
       "<style scoped>\n",
       "    .dataframe tbody tr th:only-of-type {\n",
       "        vertical-align: middle;\n",
       "    }\n",
       "\n",
       "    .dataframe tbody tr th {\n",
       "        vertical-align: top;\n",
       "    }\n",
       "\n",
       "    .dataframe thead th {\n",
       "        text-align: right;\n",
       "    }\n",
       "</style>\n",
       "<table border=\"1\" class=\"dataframe\">\n",
       "  <thead>\n",
       "    <tr style=\"text-align: right;\">\n",
       "      <th></th>\n",
       "      <th>PLAYERS</th>\n",
       "      <th>NATIONALITY</th>\n",
       "      <th>TYPE</th>\n",
       "      <th>PRICE PAID</th>\n",
       "      <th>TEAM</th>\n",
       "    </tr>\n",
       "  </thead>\n",
       "  <tbody>\n",
       "    <tr>\n",
       "      <th>0</th>\n",
       "      <td>Avanish Rao Aravelly</td>\n",
       "      <td>Indian</td>\n",
       "      <td>Wicket-Keeper</td>\n",
       "      <td>2000000</td>\n",
       "      <td>CSK</td>\n",
       "    </tr>\n",
       "    <tr>\n",
       "      <th>1</th>\n",
       "      <td>Mustafizur Rahman</td>\n",
       "      <td>Overseas</td>\n",
       "      <td>Bowler</td>\n",
       "      <td>20000000</td>\n",
       "      <td>CSK</td>\n",
       "    </tr>\n",
       "    <tr>\n",
       "      <th>2</th>\n",
       "      <td>Daryl Mitchell</td>\n",
       "      <td>Overseas</td>\n",
       "      <td>All-Rounder</td>\n",
       "      <td>140000000</td>\n",
       "      <td>CSK</td>\n",
       "    </tr>\n",
       "    <tr>\n",
       "      <th>3</th>\n",
       "      <td>Sameer Rizvi</td>\n",
       "      <td>Indian</td>\n",
       "      <td>Batter</td>\n",
       "      <td>84000000</td>\n",
       "      <td>CSK</td>\n",
       "    </tr>\n",
       "    <tr>\n",
       "      <th>4</th>\n",
       "      <td>Rachin Ravindra</td>\n",
       "      <td>Overseas</td>\n",
       "      <td>All-Rounder</td>\n",
       "      <td>18000000</td>\n",
       "      <td>CSK</td>\n",
       "    </tr>\n",
       "    <tr>\n",
       "      <th>...</th>\n",
       "      <td>...</td>\n",
       "      <td>...</td>\n",
       "      <td>...</td>\n",
       "      <td>...</td>\n",
       "      <td>...</td>\n",
       "    </tr>\n",
       "    <tr>\n",
       "      <th>67</th>\n",
       "      <td>Akash Singh</td>\n",
       "      <td>Indian</td>\n",
       "      <td>Bowler</td>\n",
       "      <td>2000000</td>\n",
       "      <td>SH</td>\n",
       "    </tr>\n",
       "    <tr>\n",
       "      <th>68</th>\n",
       "      <td>Jaydev Unadkat</td>\n",
       "      <td>Indian</td>\n",
       "      <td>Bowler</td>\n",
       "      <td>16000000</td>\n",
       "      <td>SH</td>\n",
       "    </tr>\n",
       "    <tr>\n",
       "      <th>69</th>\n",
       "      <td>Wanindu Hasaranga</td>\n",
       "      <td>Overseas</td>\n",
       "      <td>All-Rounder</td>\n",
       "      <td>15000000</td>\n",
       "      <td>SH</td>\n",
       "    </tr>\n",
       "    <tr>\n",
       "      <th>70</th>\n",
       "      <td>Pat Cummins</td>\n",
       "      <td>Overseas</td>\n",
       "      <td>All-Rounder</td>\n",
       "      <td>205000000</td>\n",
       "      <td>SH</td>\n",
       "    </tr>\n",
       "    <tr>\n",
       "      <th>71</th>\n",
       "      <td>Travis Head</td>\n",
       "      <td>Overseas</td>\n",
       "      <td>Batter</td>\n",
       "      <td>68000000</td>\n",
       "      <td>SH</td>\n",
       "    </tr>\n",
       "  </tbody>\n",
       "</table>\n",
       "<p>72 rows × 5 columns</p>\n",
       "</div>"
      ],
      "text/plain": [
       "                 PLAYERS NATIONALITY           TYPE  PRICE PAID TEAM\n",
       "0   Avanish Rao Aravelly      Indian  Wicket-Keeper     2000000  CSK\n",
       "1      Mustafizur Rahman    Overseas         Bowler    20000000  CSK\n",
       "2         Daryl Mitchell    Overseas    All-Rounder   140000000  CSK\n",
       "3           Sameer Rizvi      Indian         Batter    84000000  CSK\n",
       "4        Rachin Ravindra    Overseas    All-Rounder    18000000  CSK\n",
       "..                   ...         ...            ...         ...  ...\n",
       "67           Akash Singh      Indian         Bowler     2000000   SH\n",
       "68        Jaydev Unadkat      Indian         Bowler    16000000   SH\n",
       "69     Wanindu Hasaranga    Overseas    All-Rounder    15000000   SH\n",
       "70           Pat Cummins    Overseas    All-Rounder   205000000   SH\n",
       "71           Travis Head    Overseas         Batter    68000000   SH\n",
       "\n",
       "[72 rows x 5 columns]"
      ]
     },
     "execution_count": 2,
     "metadata": {},
     "output_type": "execute_result"
    }
   ],
   "source": [
    "data = pd.read_csv(\"/kaggle/input/ipl-players-sold-2024/IPL_PLAYERS.csv\")\n",
    "data"
   ]
  },
  {
   "cell_type": "markdown",
   "id": "0856faea",
   "metadata": {
    "execution": {
     "iopub.execute_input": "2024-01-14T15:30:28.033634Z",
     "iopub.status.busy": "2024-01-14T15:30:28.033185Z",
     "iopub.status.idle": "2024-01-14T15:30:28.038885Z",
     "shell.execute_reply": "2024-01-14T15:30:28.037694Z",
     "shell.execute_reply.started": "2024-01-14T15:30:28.033599Z"
    },
    "papermill": {
     "duration": 0.007163,
     "end_time": "2024-01-14T18:42:23.554588",
     "exception": false,
     "start_time": "2024-01-14T18:42:23.547425",
     "status": "completed"
    },
    "tags": []
   },
   "source": [
    "### Preprocessing Steps\n",
    "1. Handling Missing Data:\n",
    "2. Ensure that the data types of columns are appropriate\n",
    "1. Duplicates\n",
    "1. Standardize or clean column names\n",
    "1. Handling Outliers: Identify and decide on a strategy for handling outliers \n",
    "1. Categorical Variables: Encode categorical variables\n",
    "1. Feature Scaling: scale numerical features \n",
    "1. Exploratory Data Analysis (EDA): Visualize the data using plots (histograms, scatter plots, etc.) to understand distributions and relationships.\n",
    "1. Handling Irrelevant Columns: Remove columns that are not useful for analysis or modeling."
   ]
  },
  {
   "cell_type": "markdown",
   "id": "33f12768",
   "metadata": {
    "papermill": {
     "duration": 0.007129,
     "end_time": "2024-01-14T18:42:23.569103",
     "exception": false,
     "start_time": "2024-01-14T18:42:23.561974",
     "status": "completed"
    },
    "tags": []
   },
   "source": [
    "#### 1. Check for missing data\n",
    "> There is no missing value in the dataset."
   ]
  },
  {
   "cell_type": "code",
   "execution_count": 3,
   "id": "b58e5ef8",
   "metadata": {
    "execution": {
     "iopub.execute_input": "2024-01-14T18:42:23.585496Z",
     "iopub.status.busy": "2024-01-14T18:42:23.585150Z",
     "iopub.status.idle": "2024-01-14T18:42:23.597292Z",
     "shell.execute_reply": "2024-01-14T18:42:23.595690Z"
    },
    "papermill": {
     "duration": 0.022656,
     "end_time": "2024-01-14T18:42:23.599122",
     "exception": false,
     "start_time": "2024-01-14T18:42:23.576466",
     "status": "completed"
    },
    "tags": []
   },
   "outputs": [
    {
     "data": {
      "text/plain": [
       "PLAYERS        0\n",
       "NATIONALITY    0\n",
       "TYPE           0\n",
       "PRICE PAID     0\n",
       "TEAM           0\n",
       "dtype: int64"
      ]
     },
     "execution_count": 3,
     "metadata": {},
     "output_type": "execute_result"
    }
   ],
   "source": [
    "data.isnull().sum()"
   ]
  },
  {
   "cell_type": "markdown",
   "id": "2e4a5220",
   "metadata": {
    "papermill": {
     "duration": 0.008385,
     "end_time": "2024-01-14T18:42:23.615471",
     "exception": false,
     "start_time": "2024-01-14T18:42:23.607086",
     "status": "completed"
    },
    "tags": []
   },
   "source": [
    "#### 2. Check datatype of columns"
   ]
  },
  {
   "cell_type": "code",
   "execution_count": 4,
   "id": "c4d66cd2",
   "metadata": {
    "execution": {
     "iopub.execute_input": "2024-01-14T18:42:23.634822Z",
     "iopub.status.busy": "2024-01-14T18:42:23.633990Z",
     "iopub.status.idle": "2024-01-14T18:42:23.660207Z",
     "shell.execute_reply": "2024-01-14T18:42:23.658773Z"
    },
    "papermill": {
     "duration": 0.038843,
     "end_time": "2024-01-14T18:42:23.662647",
     "exception": false,
     "start_time": "2024-01-14T18:42:23.623804",
     "status": "completed"
    },
    "tags": []
   },
   "outputs": [
    {
     "name": "stdout",
     "output_type": "stream",
     "text": [
      "<class 'pandas.core.frame.DataFrame'>\n",
      "RangeIndex: 72 entries, 0 to 71\n",
      "Data columns (total 5 columns):\n",
      " #   Column       Non-Null Count  Dtype \n",
      "---  ------       --------------  ----- \n",
      " 0   PLAYERS      72 non-null     object\n",
      " 1   NATIONALITY  72 non-null     object\n",
      " 2   TYPE         72 non-null     object\n",
      " 3   PRICE PAID   72 non-null     int64 \n",
      " 4   TEAM         72 non-null     object\n",
      "dtypes: int64(1), object(4)\n",
      "memory usage: 2.9+ KB\n"
     ]
    }
   ],
   "source": [
    "data.info()"
   ]
  },
  {
   "cell_type": "markdown",
   "id": "f09e3ee8",
   "metadata": {
    "papermill": {
     "duration": 0.007475,
     "end_time": "2024-01-14T18:42:23.678683",
     "exception": false,
     "start_time": "2024-01-14T18:42:23.671208",
     "status": "completed"
    },
    "tags": []
   },
   "source": [
    "#### 3. check for duplicates rows"
   ]
  },
  {
   "cell_type": "code",
   "execution_count": 5,
   "id": "48731fd3",
   "metadata": {
    "execution": {
     "iopub.execute_input": "2024-01-14T18:42:23.697109Z",
     "iopub.status.busy": "2024-01-14T18:42:23.696715Z",
     "iopub.status.idle": "2024-01-14T18:42:23.707607Z",
     "shell.execute_reply": "2024-01-14T18:42:23.706024Z"
    },
    "papermill": {
     "duration": 0.02317,
     "end_time": "2024-01-14T18:42:23.710467",
     "exception": false,
     "start_time": "2024-01-14T18:42:23.687297",
     "status": "completed"
    },
    "tags": []
   },
   "outputs": [
    {
     "name": "stdout",
     "output_type": "stream",
     "text": [
      "<class 'pandas.core.frame.DataFrame'>\n",
      "RangeIndex: 72 entries, 0 to 71\n",
      "Data columns (total 5 columns):\n",
      " #   Column       Non-Null Count  Dtype \n",
      "---  ------       --------------  ----- \n",
      " 0   PLAYERS      72 non-null     object\n",
      " 1   NATIONALITY  72 non-null     object\n",
      " 2   TYPE         72 non-null     object\n",
      " 3   PRICE PAID   72 non-null     int64 \n",
      " 4   TEAM         72 non-null     object\n",
      "dtypes: int64(1), object(4)\n",
      "memory usage: 2.9+ KB\n"
     ]
    }
   ],
   "source": [
    "data.info()"
   ]
  },
  {
   "cell_type": "markdown",
   "id": "28a382ef",
   "metadata": {
    "papermill": {
     "duration": 0.007819,
     "end_time": "2024-01-14T18:42:23.726835",
     "exception": false,
     "start_time": "2024-01-14T18:42:23.719016",
     "status": "completed"
    },
    "tags": []
   },
   "source": [
    "#### 4. Change column name"
   ]
  },
  {
   "cell_type": "code",
   "execution_count": 6,
   "id": "0e916e42",
   "metadata": {
    "execution": {
     "iopub.execute_input": "2024-01-14T18:42:23.744718Z",
     "iopub.status.busy": "2024-01-14T18:42:23.744343Z",
     "iopub.status.idle": "2024-01-14T18:42:23.751583Z",
     "shell.execute_reply": "2024-01-14T18:42:23.750495Z"
    },
    "papermill": {
     "duration": 0.019226,
     "end_time": "2024-01-14T18:42:23.754152",
     "exception": false,
     "start_time": "2024-01-14T18:42:23.734926",
     "status": "completed"
    },
    "tags": []
   },
   "outputs": [
    {
     "name": "stdout",
     "output_type": "stream",
     "text": [
      "Old name : Index(['PLAYERS', 'NATIONALITY', 'TYPE', 'PRICE PAID', 'TEAM'], dtype='object')\n",
      "New name : Index(['PLAYERS', 'NATIONALITY', 'PLAYER_TYPE', 'PRICE_PAID', 'TEAM'], dtype='object')\n"
     ]
    }
   ],
   "source": [
    "print(\"Old name :\",data.columns)\n",
    "new_name = {'PLAYERS':'PLAYERS', 'NATIONALITY':'NATIONALITY', 'TYPE':'PLAYER_TYPE', 'PRICE PAID':'PRICE_PAID', 'TEAM':'TEAM'}\n",
    "data.rename(columns=new_name, inplace=True)\n",
    "print(\"New name :\",data.columns)"
   ]
  },
  {
   "cell_type": "markdown",
   "id": "44bb0aba",
   "metadata": {
    "papermill": {
     "duration": 0.00798,
     "end_time": "2024-01-14T18:42:23.771799",
     "exception": false,
     "start_time": "2024-01-14T18:42:23.763819",
     "status": "completed"
    },
    "tags": []
   },
   "source": [
    "#### 5. Exploratory Data Analysis (EDA)"
   ]
  },
  {
   "cell_type": "code",
   "execution_count": 7,
   "id": "4c572de1",
   "metadata": {
    "execution": {
     "iopub.execute_input": "2024-01-14T18:42:23.789783Z",
     "iopub.status.busy": "2024-01-14T18:42:23.789231Z",
     "iopub.status.idle": "2024-01-14T18:42:25.481566Z",
     "shell.execute_reply": "2024-01-14T18:42:25.480689Z"
    },
    "papermill": {
     "duration": 1.70354,
     "end_time": "2024-01-14T18:42:25.483449",
     "exception": false,
     "start_time": "2024-01-14T18:42:23.779909",
     "status": "completed"
    },
    "tags": []
   },
   "outputs": [
    {
     "data": {
      "text/plain": [
       "Text(0.5, 1.0, 'Auction Amount Graph')"
      ]
     },
     "execution_count": 7,
     "metadata": {},
     "output_type": "execute_result"
    },
    {
     "data": {
      "image/png": "[encoded data removed]",
      "text/plain": [
       "<Figure size 640x480 with 1 Axes>"
      ]
     },
     "metadata": {},
     "output_type": "display_data"
    }
   ],
   "source": [
    "import seaborn as sns\n",
    "import matplotlib.pyplot as plt\n",
    "sns.histplot(data.PRICE_PAID, kde=True)\n",
    "plt.title('Auction Amount Graph')"
   ]
  },
  {
   "cell_type": "markdown",
   "id": "6de709c7",
   "metadata": {
    "papermill": {
     "duration": 0.007907,
     "end_time": "2024-01-14T18:42:25.499929",
     "exception": false,
     "start_time": "2024-01-14T18:42:25.492022",
     "status": "completed"
    },
    "tags": []
   },
   "source": [
    "## Showcasing the top 10 most expensive players"
   ]
  },
  {
   "cell_type": "code",
   "execution_count": 8,
   "id": "cd7fe8a5",
   "metadata": {
    "execution": {
     "iopub.execute_input": "2024-01-14T18:42:25.518763Z",
     "iopub.status.busy": "2024-01-14T18:42:25.518400Z",
     "iopub.status.idle": "2024-01-14T18:42:25.530581Z",
     "shell.execute_reply": "2024-01-14T18:42:25.529438Z"
    },
    "papermill": {
     "duration": 0.024199,
     "end_time": "2024-01-14T18:42:25.532487",
     "exception": false,
     "start_time": "2024-01-14T18:42:25.508288",
     "status": "completed"
    },
    "tags": []
   },
   "outputs": [
    {
     "data": {
      "text/html": [
       "<div>\n",
       "<style scoped>\n",
       "    .dataframe tbody tr th:only-of-type {\n",
       "        vertical-align: middle;\n",
       "    }\n",
       "\n",
       "    .dataframe tbody tr th {\n",
       "        vertical-align: top;\n",
       "    }\n",
       "\n",
       "    .dataframe thead th {\n",
       "        text-align: right;\n",
       "    }\n",
       "</style>\n",
       "<table border=\"1\" class=\"dataframe\">\n",
       "  <thead>\n",
       "    <tr style=\"text-align: right;\">\n",
       "      <th></th>\n",
       "      <th>PLAYERS</th>\n",
       "      <th>NATIONALITY</th>\n",
       "      <th>PLAYER_TYPE</th>\n",
       "      <th>PRICE_PAID</th>\n",
       "      <th>TEAM</th>\n",
       "    </tr>\n",
       "  </thead>\n",
       "  <tbody>\n",
       "    <tr>\n",
       "      <th>27</th>\n",
       "      <td>Mitchell Starc</td>\n",
       "      <td>Overseas</td>\n",
       "      <td>Bowler</td>\n",
       "      <td>247500000</td>\n",
       "      <td>KKR</td>\n",
       "    </tr>\n",
       "    <tr>\n",
       "      <th>70</th>\n",
       "      <td>Pat Cummins</td>\n",
       "      <td>Overseas</td>\n",
       "      <td>All-Rounder</td>\n",
       "      <td>205000000</td>\n",
       "      <td>SH</td>\n",
       "    </tr>\n",
       "    <tr>\n",
       "      <th>2</th>\n",
       "      <td>Daryl Mitchell</td>\n",
       "      <td>Overseas</td>\n",
       "      <td>All-Rounder</td>\n",
       "      <td>140000000</td>\n",
       "      <td>CSK</td>\n",
       "    </tr>\n",
       "    <tr>\n",
       "      <th>54</th>\n",
       "      <td>Harshal Patel</td>\n",
       "      <td>Indian</td>\n",
       "      <td>All-Rounder</td>\n",
       "      <td>117500000</td>\n",
       "      <td>PK</td>\n",
       "    </tr>\n",
       "    <tr>\n",
       "      <th>63</th>\n",
       "      <td>Alzarri Joseph</td>\n",
       "      <td>Overseas</td>\n",
       "      <td>Bowler</td>\n",
       "      <td>115000000</td>\n",
       "      <td>RCB</td>\n",
       "    </tr>\n",
       "    <tr>\n",
       "      <th>16</th>\n",
       "      <td>Spencer Johnson</td>\n",
       "      <td>Overseas</td>\n",
       "      <td>Bowler</td>\n",
       "      <td>100000000</td>\n",
       "      <td>GT</td>\n",
       "    </tr>\n",
       "    <tr>\n",
       "      <th>3</th>\n",
       "      <td>Sameer Rizvi</td>\n",
       "      <td>Indian</td>\n",
       "      <td>Batter</td>\n",
       "      <td>84000000</td>\n",
       "      <td>CSK</td>\n",
       "    </tr>\n",
       "    <tr>\n",
       "      <th>52</th>\n",
       "      <td>Rilee Rossouw</td>\n",
       "      <td>Overseas</td>\n",
       "      <td>Batter</td>\n",
       "      <td>80000000</td>\n",
       "      <td>PK</td>\n",
       "    </tr>\n",
       "    <tr>\n",
       "      <th>56</th>\n",
       "      <td>Rovman Powell</td>\n",
       "      <td>Overseas</td>\n",
       "      <td>Batter</td>\n",
       "      <td>74000000</td>\n",
       "      <td>RR</td>\n",
       "    </tr>\n",
       "    <tr>\n",
       "      <th>21</th>\n",
       "      <td>Shahrukh Khan</td>\n",
       "      <td>Indian</td>\n",
       "      <td>All-Rounder</td>\n",
       "      <td>74000000</td>\n",
       "      <td>GT</td>\n",
       "    </tr>\n",
       "  </tbody>\n",
       "</table>\n",
       "</div>"
      ],
      "text/plain": [
       "            PLAYERS NATIONALITY  PLAYER_TYPE  PRICE_PAID TEAM\n",
       "27   Mitchell Starc    Overseas       Bowler   247500000  KKR\n",
       "70      Pat Cummins    Overseas  All-Rounder   205000000   SH\n",
       "2    Daryl Mitchell    Overseas  All-Rounder   140000000  CSK\n",
       "54    Harshal Patel      Indian  All-Rounder   117500000   PK\n",
       "63   Alzarri Joseph    Overseas       Bowler   115000000  RCB\n",
       "16  Spencer Johnson    Overseas       Bowler   100000000   GT\n",
       "3      Sameer Rizvi      Indian       Batter    84000000  CSK\n",
       "52    Rilee Rossouw    Overseas       Batter    80000000   PK\n",
       "56    Rovman Powell    Overseas       Batter    74000000   RR\n",
       "21    Shahrukh Khan      Indian  All-Rounder    74000000   GT"
      ]
     },
     "execution_count": 8,
     "metadata": {},
     "output_type": "execute_result"
    }
   ],
   "source": [
    "data.sort_values(by='PRICE_PAID', ascending=False).head(10)"
   ]
  },
  {
   "cell_type": "markdown",
   "id": "93a7d031",
   "metadata": {
    "papermill": {
     "duration": 0.008218,
     "end_time": "2024-01-14T18:42:25.549490",
     "exception": false,
     "start_time": "2024-01-14T18:42:25.541272",
     "status": "completed"
    },
    "tags": []
   },
   "source": [
    "### Showcasing Most Expensive player in each team"
   ]
  },
  {
   "cell_type": "code",
   "execution_count": 9,
   "id": "9a4ae23e",
   "metadata": {
    "execution": {
     "iopub.execute_input": "2024-01-14T18:42:25.567765Z",
     "iopub.status.busy": "2024-01-14T18:42:25.567356Z",
     "iopub.status.idle": "2024-01-14T18:42:25.582877Z",
     "shell.execute_reply": "2024-01-14T18:42:25.582150Z"
    },
    "papermill": {
     "duration": 0.026864,
     "end_time": "2024-01-14T18:42:25.584675",
     "exception": false,
     "start_time": "2024-01-14T18:42:25.557811",
     "status": "completed"
    },
    "tags": []
   },
   "outputs": [
    {
     "data": {
      "text/html": [
       "<div>\n",
       "<style scoped>\n",
       "    .dataframe tbody tr th:only-of-type {\n",
       "        vertical-align: middle;\n",
       "    }\n",
       "\n",
       "    .dataframe tbody tr th {\n",
       "        vertical-align: top;\n",
       "    }\n",
       "\n",
       "    .dataframe thead th {\n",
       "        text-align: right;\n",
       "    }\n",
       "</style>\n",
       "<table border=\"1\" class=\"dataframe\">\n",
       "  <thead>\n",
       "    <tr style=\"text-align: right;\">\n",
       "      <th></th>\n",
       "      <th>PLAYERS</th>\n",
       "      <th>NATIONALITY</th>\n",
       "      <th>PLAYER_TYPE</th>\n",
       "      <th>PRICE_PAID</th>\n",
       "      <th>TEAM</th>\n",
       "    </tr>\n",
       "  </thead>\n",
       "  <tbody>\n",
       "    <tr>\n",
       "      <th>27</th>\n",
       "      <td>Mitchell Starc</td>\n",
       "      <td>Overseas</td>\n",
       "      <td>Bowler</td>\n",
       "      <td>247500000</td>\n",
       "      <td>KKR</td>\n",
       "    </tr>\n",
       "    <tr>\n",
       "      <th>70</th>\n",
       "      <td>Pat Cummins</td>\n",
       "      <td>Overseas</td>\n",
       "      <td>All-Rounder</td>\n",
       "      <td>205000000</td>\n",
       "      <td>SH</td>\n",
       "    </tr>\n",
       "    <tr>\n",
       "      <th>2</th>\n",
       "      <td>Daryl Mitchell</td>\n",
       "      <td>Overseas</td>\n",
       "      <td>All-Rounder</td>\n",
       "      <td>140000000</td>\n",
       "      <td>CSK</td>\n",
       "    </tr>\n",
       "    <tr>\n",
       "      <th>54</th>\n",
       "      <td>Harshal Patel</td>\n",
       "      <td>Indian</td>\n",
       "      <td>All-Rounder</td>\n",
       "      <td>117500000</td>\n",
       "      <td>PK</td>\n",
       "    </tr>\n",
       "    <tr>\n",
       "      <th>63</th>\n",
       "      <td>Alzarri Joseph</td>\n",
       "      <td>Overseas</td>\n",
       "      <td>Bowler</td>\n",
       "      <td>115000000</td>\n",
       "      <td>RCB</td>\n",
       "    </tr>\n",
       "    <tr>\n",
       "      <th>16</th>\n",
       "      <td>Spencer Johnson</td>\n",
       "      <td>Overseas</td>\n",
       "      <td>Bowler</td>\n",
       "      <td>100000000</td>\n",
       "      <td>GT</td>\n",
       "    </tr>\n",
       "    <tr>\n",
       "      <th>56</th>\n",
       "      <td>Rovman Powell</td>\n",
       "      <td>Overseas</td>\n",
       "      <td>Batter</td>\n",
       "      <td>74000000</td>\n",
       "      <td>RR</td>\n",
       "    </tr>\n",
       "    <tr>\n",
       "      <th>12</th>\n",
       "      <td>Kumar Kushagra</td>\n",
       "      <td>Indian</td>\n",
       "      <td>Wicket-Keeper</td>\n",
       "      <td>72000000</td>\n",
       "      <td>DC</td>\n",
       "    </tr>\n",
       "    <tr>\n",
       "      <th>36</th>\n",
       "      <td>Shivam Mavi</td>\n",
       "      <td>Indian</td>\n",
       "      <td>Bowler</td>\n",
       "      <td>64000000</td>\n",
       "      <td>LSG</td>\n",
       "    </tr>\n",
       "    <tr>\n",
       "      <th>46</th>\n",
       "      <td>Gerald Coetzee</td>\n",
       "      <td>Overseas</td>\n",
       "      <td>All-Rounder</td>\n",
       "      <td>50000000</td>\n",
       "      <td>MI</td>\n",
       "    </tr>\n",
       "  </tbody>\n",
       "</table>\n",
       "</div>"
      ],
      "text/plain": [
       "            PLAYERS NATIONALITY    PLAYER_TYPE  PRICE_PAID TEAM\n",
       "27   Mitchell Starc    Overseas         Bowler   247500000  KKR\n",
       "70      Pat Cummins    Overseas    All-Rounder   205000000   SH\n",
       "2    Daryl Mitchell    Overseas    All-Rounder   140000000  CSK\n",
       "54    Harshal Patel      Indian    All-Rounder   117500000   PK\n",
       "63   Alzarri Joseph    Overseas         Bowler   115000000  RCB\n",
       "16  Spencer Johnson    Overseas         Bowler   100000000   GT\n",
       "56    Rovman Powell    Overseas         Batter    74000000   RR\n",
       "12   Kumar Kushagra      Indian  Wicket-Keeper    72000000   DC\n",
       "36      Shivam Mavi      Indian         Bowler    64000000  LSG\n",
       "46   Gerald Coetzee    Overseas    All-Rounder    50000000   MI"
      ]
     },
     "execution_count": 9,
     "metadata": {},
     "output_type": "execute_result"
    }
   ],
   "source": [
    "data.loc[data.groupby(by='TEAM')['PRICE_PAID'].idxmax()].sort_values(by='PRICE_PAID', ascending=False)"
   ]
  },
  {
   "cell_type": "markdown",
   "id": "4a987fc1",
   "metadata": {
    "execution": {
     "iopub.execute_input": "2024-01-14T18:27:40.005276Z",
     "iopub.status.busy": "2024-01-14T18:27:40.004868Z",
     "iopub.status.idle": "2024-01-14T18:27:40.010281Z",
     "shell.execute_reply": "2024-01-14T18:27:40.009001Z",
     "shell.execute_reply.started": "2024-01-14T18:27:40.005246Z"
    },
    "papermill": {
     "duration": 0.008555,
     "end_time": "2024-01-14T18:42:25.602381",
     "exception": false,
     "start_time": "2024-01-14T18:42:25.593826",
     "status": "completed"
    },
    "tags": []
   },
   "source": [
    "### Showcasing Least Expensive player in each team"
   ]
  },
  {
   "cell_type": "code",
   "execution_count": 10,
   "id": "d54e93fd",
   "metadata": {
    "execution": {
     "iopub.execute_input": "2024-01-14T18:42:25.622420Z",
     "iopub.status.busy": "2024-01-14T18:42:25.621750Z",
     "iopub.status.idle": "2024-01-14T18:42:25.635152Z",
     "shell.execute_reply": "2024-01-14T18:42:25.633852Z"
    },
    "papermill": {
     "duration": 0.025468,
     "end_time": "2024-01-14T18:42:25.636863",
     "exception": false,
     "start_time": "2024-01-14T18:42:25.611395",
     "status": "completed"
    },
    "tags": []
   },
   "outputs": [
    {
     "data": {
      "text/html": [
       "<div>\n",
       "<style scoped>\n",
       "    .dataframe tbody tr th:only-of-type {\n",
       "        vertical-align: middle;\n",
       "    }\n",
       "\n",
       "    .dataframe tbody tr th {\n",
       "        vertical-align: top;\n",
       "    }\n",
       "\n",
       "    .dataframe thead th {\n",
       "        text-align: right;\n",
       "    }\n",
       "</style>\n",
       "<table border=\"1\" class=\"dataframe\">\n",
       "  <thead>\n",
       "    <tr style=\"text-align: right;\">\n",
       "      <th></th>\n",
       "      <th>PLAYERS</th>\n",
       "      <th>NATIONALITY</th>\n",
       "      <th>PLAYER_TYPE</th>\n",
       "      <th>PRICE_PAID</th>\n",
       "      <th>TEAM</th>\n",
       "    </tr>\n",
       "  </thead>\n",
       "  <tbody>\n",
       "    <tr>\n",
       "      <th>0</th>\n",
       "      <td>Avanish Rao Aravelly</td>\n",
       "      <td>Indian</td>\n",
       "      <td>Wicket-Keeper</td>\n",
       "      <td>2000000</td>\n",
       "      <td>CSK</td>\n",
       "    </tr>\n",
       "    <tr>\n",
       "      <th>6</th>\n",
       "      <td>Ricky Bhui</td>\n",
       "      <td>Indian</td>\n",
       "      <td>Wicket-Keeper</td>\n",
       "      <td>2000000</td>\n",
       "      <td>DC</td>\n",
       "    </tr>\n",
       "    <tr>\n",
       "      <th>17</th>\n",
       "      <td>Manav Suthar</td>\n",
       "      <td>Indian</td>\n",
       "      <td>Bowler</td>\n",
       "      <td>2000000</td>\n",
       "      <td>GT</td>\n",
       "    </tr>\n",
       "    <tr>\n",
       "      <th>26</th>\n",
       "      <td>Angkrish Raghuvanshi</td>\n",
       "      <td>Indian</td>\n",
       "      <td>Batter</td>\n",
       "      <td>2000000</td>\n",
       "      <td>KKR</td>\n",
       "    </tr>\n",
       "    <tr>\n",
       "      <th>37</th>\n",
       "      <td>Arshin Kulkarni</td>\n",
       "      <td>Indian</td>\n",
       "      <td>All-Rounder</td>\n",
       "      <td>2000000</td>\n",
       "      <td>LSG</td>\n",
       "    </tr>\n",
       "    <tr>\n",
       "      <th>40</th>\n",
       "      <td>Shreyas Gopal</td>\n",
       "      <td>Indian</td>\n",
       "      <td>Bowler</td>\n",
       "      <td>2000000</td>\n",
       "      <td>MI</td>\n",
       "    </tr>\n",
       "    <tr>\n",
       "      <th>48</th>\n",
       "      <td>Tanay Thyagarajann</td>\n",
       "      <td>Indian</td>\n",
       "      <td>All-Rounder</td>\n",
       "      <td>2000000</td>\n",
       "      <td>PK</td>\n",
       "    </tr>\n",
       "    <tr>\n",
       "      <th>62</th>\n",
       "      <td>Saurav Chuahan</td>\n",
       "      <td>Indian</td>\n",
       "      <td>Batter</td>\n",
       "      <td>2000000</td>\n",
       "      <td>RCB</td>\n",
       "    </tr>\n",
       "    <tr>\n",
       "      <th>57</th>\n",
       "      <td>Abid Mushtaq</td>\n",
       "      <td>Indian</td>\n",
       "      <td>All-Rounder</td>\n",
       "      <td>2000000</td>\n",
       "      <td>RR</td>\n",
       "    </tr>\n",
       "    <tr>\n",
       "      <th>66</th>\n",
       "      <td>Jhathavedh Subramanyan</td>\n",
       "      <td>Indian</td>\n",
       "      <td>Bowler</td>\n",
       "      <td>2000000</td>\n",
       "      <td>SH</td>\n",
       "    </tr>\n",
       "  </tbody>\n",
       "</table>\n",
       "</div>"
      ],
      "text/plain": [
       "                   PLAYERS NATIONALITY    PLAYER_TYPE  PRICE_PAID TEAM\n",
       "0     Avanish Rao Aravelly      Indian  Wicket-Keeper     2000000  CSK\n",
       "6               Ricky Bhui      Indian  Wicket-Keeper     2000000   DC\n",
       "17            Manav Suthar      Indian         Bowler     2000000   GT\n",
       "26    Angkrish Raghuvanshi      Indian         Batter     2000000  KKR\n",
       "37         Arshin Kulkarni      Indian    All-Rounder     2000000  LSG\n",
       "40           Shreyas Gopal      Indian         Bowler     2000000   MI\n",
       "48      Tanay Thyagarajann      Indian    All-Rounder     2000000   PK\n",
       "62          Saurav Chuahan      Indian         Batter     2000000  RCB\n",
       "57            Abid Mushtaq      Indian    All-Rounder     2000000   RR\n",
       "66  Jhathavedh Subramanyan      Indian         Bowler     2000000   SH"
      ]
     },
     "execution_count": 10,
     "metadata": {},
     "output_type": "execute_result"
    }
   ],
   "source": [
    "data.loc[data.groupby(by='TEAM')['PRICE_PAID'].idxmin()]"
   ]
  },
  {
   "cell_type": "markdown",
   "id": "c8713b99",
   "metadata": {
    "papermill": {
     "duration": 0.008403,
     "end_time": "2024-01-14T18:42:25.654250",
     "exception": false,
     "start_time": "2024-01-14T18:42:25.645847",
     "status": "completed"
    },
    "tags": []
   },
   "source": [
    "## Showcase Each Teams, Player, Nationality, Playing type, and Auction Value"
   ]
  },
  {
   "cell_type": "code",
   "execution_count": 11,
   "id": "ac976730",
   "metadata": {
    "execution": {
     "iopub.execute_input": "2024-01-14T18:42:25.733824Z",
     "iopub.status.busy": "2024-01-14T18:42:25.733196Z",
     "iopub.status.idle": "2024-01-14T18:42:25.740002Z",
     "shell.execute_reply": "2024-01-14T18:42:25.739023Z"
    },
    "papermill": {
     "duration": 0.020068,
     "end_time": "2024-01-14T18:42:25.742498",
     "exception": false,
     "start_time": "2024-01-14T18:42:25.722430",
     "status": "completed"
    },
    "tags": []
   },
   "outputs": [
    {
     "data": {
      "text/plain": [
       "array(['CSK', 'DC', 'GT', 'KKR', 'LSG', 'MI', 'PK', 'RR', 'RCB', 'SH'],\n",
       "      dtype=object)"
      ]
     },
     "execution_count": 11,
     "metadata": {},
     "output_type": "execute_result"
    }
   ],
   "source": [
    "data.TEAM.unique()"
   ]
  },
  {
   "cell_type": "code",
   "execution_count": 12,
   "id": "a643a3cf",
   "metadata": {
    "execution": {
     "iopub.execute_input": "2024-01-14T18:42:25.763187Z",
     "iopub.status.busy": "2024-01-14T18:42:25.762814Z",
     "iopub.status.idle": "2024-01-14T18:42:25.767085Z",
     "shell.execute_reply": "2024-01-14T18:42:25.766217Z"
    },
    "papermill": {
     "duration": 0.017445,
     "end_time": "2024-01-14T18:42:25.769590",
     "exception": false,
     "start_time": "2024-01-14T18:42:25.752145",
     "status": "completed"
    },
    "tags": []
   },
   "outputs": [],
   "source": [
    "def Teams_details(team_name):\n",
    "    df = data[data.TEAM == team_name].sort_values(by='PRICE_PAID', ascending=False)\n",
    "    return df    "
   ]
  },
  {
   "cell_type": "markdown",
   "id": "47d5adf6",
   "metadata": {
    "papermill": {
     "duration": 0.009104,
     "end_time": "2024-01-14T18:42:25.788334",
     "exception": false,
     "start_time": "2024-01-14T18:42:25.779230",
     "status": "completed"
    },
    "tags": []
   },
   "source": [
    "### 1. Mumbai Indian "
   ]
  },
  {
   "cell_type": "code",
   "execution_count": 13,
   "id": "d01417f1",
   "metadata": {
    "execution": {
     "iopub.execute_input": "2024-01-14T18:42:25.809741Z",
     "iopub.status.busy": "2024-01-14T18:42:25.808387Z",
     "iopub.status.idle": "2024-01-14T18:42:25.820803Z",
     "shell.execute_reply": "2024-01-14T18:42:25.819896Z"
    },
    "papermill": {
     "duration": 0.02526,
     "end_time": "2024-01-14T18:42:25.822863",
     "exception": false,
     "start_time": "2024-01-14T18:42:25.797603",
     "status": "completed"
    },
    "tags": []
   },
   "outputs": [
    {
     "data": {
      "text/html": [
       "<div>\n",
       "<style scoped>\n",
       "    .dataframe tbody tr th:only-of-type {\n",
       "        vertical-align: middle;\n",
       "    }\n",
       "\n",
       "    .dataframe tbody tr th {\n",
       "        vertical-align: top;\n",
       "    }\n",
       "\n",
       "    .dataframe thead th {\n",
       "        text-align: right;\n",
       "    }\n",
       "</style>\n",
       "<table border=\"1\" class=\"dataframe\">\n",
       "  <thead>\n",
       "    <tr style=\"text-align: right;\">\n",
       "      <th></th>\n",
       "      <th>PLAYERS</th>\n",
       "      <th>NATIONALITY</th>\n",
       "      <th>PLAYER_TYPE</th>\n",
       "      <th>PRICE_PAID</th>\n",
       "      <th>TEAM</th>\n",
       "    </tr>\n",
       "  </thead>\n",
       "  <tbody>\n",
       "    <tr>\n",
       "      <th>46</th>\n",
       "      <td>Gerald Coetzee</td>\n",
       "      <td>Overseas</td>\n",
       "      <td>All-Rounder</td>\n",
       "      <td>50000000</td>\n",
       "      <td>MI</td>\n",
       "    </tr>\n",
       "    <tr>\n",
       "      <th>45</th>\n",
       "      <td>Nuwan Thushara</td>\n",
       "      <td>Overseas</td>\n",
       "      <td>Bowler</td>\n",
       "      <td>48000000</td>\n",
       "      <td>MI</td>\n",
       "    </tr>\n",
       "    <tr>\n",
       "      <th>39</th>\n",
       "      <td>Dilshan Madushanka</td>\n",
       "      <td>Overseas</td>\n",
       "      <td>Bowler</td>\n",
       "      <td>46000000</td>\n",
       "      <td>MI</td>\n",
       "    </tr>\n",
       "    <tr>\n",
       "      <th>43</th>\n",
       "      <td>Mohammad Nabi</td>\n",
       "      <td>Overseas</td>\n",
       "      <td>All-Rounder</td>\n",
       "      <td>15000000</td>\n",
       "      <td>MI</td>\n",
       "    </tr>\n",
       "    <tr>\n",
       "      <th>40</th>\n",
       "      <td>Shreyas Gopal</td>\n",
       "      <td>Indian</td>\n",
       "      <td>Bowler</td>\n",
       "      <td>2000000</td>\n",
       "      <td>MI</td>\n",
       "    </tr>\n",
       "    <tr>\n",
       "      <th>41</th>\n",
       "      <td>Shivalik Sharma</td>\n",
       "      <td>Indian</td>\n",
       "      <td>All-Rounder</td>\n",
       "      <td>2000000</td>\n",
       "      <td>MI</td>\n",
       "    </tr>\n",
       "    <tr>\n",
       "      <th>42</th>\n",
       "      <td>Anshul Kamboj</td>\n",
       "      <td>Indian</td>\n",
       "      <td>All-Rounder</td>\n",
       "      <td>2000000</td>\n",
       "      <td>MI</td>\n",
       "    </tr>\n",
       "    <tr>\n",
       "      <th>44</th>\n",
       "      <td>Naman Dhir</td>\n",
       "      <td>Indian</td>\n",
       "      <td>All-Rounder</td>\n",
       "      <td>2000000</td>\n",
       "      <td>MI</td>\n",
       "    </tr>\n",
       "  </tbody>\n",
       "</table>\n",
       "</div>"
      ],
      "text/plain": [
       "               PLAYERS NATIONALITY  PLAYER_TYPE  PRICE_PAID TEAM\n",
       "46      Gerald Coetzee    Overseas  All-Rounder    50000000   MI\n",
       "45      Nuwan Thushara    Overseas       Bowler    48000000   MI\n",
       "39  Dilshan Madushanka    Overseas       Bowler    46000000   MI\n",
       "43       Mohammad Nabi    Overseas  All-Rounder    15000000   MI\n",
       "40       Shreyas Gopal      Indian       Bowler     2000000   MI\n",
       "41     Shivalik Sharma      Indian  All-Rounder     2000000   MI\n",
       "42       Anshul Kamboj      Indian  All-Rounder     2000000   MI\n",
       "44          Naman Dhir      Indian  All-Rounder     2000000   MI"
      ]
     },
     "execution_count": 13,
     "metadata": {},
     "output_type": "execute_result"
    }
   ],
   "source": [
    "team_mi = Teams_details('MI')\n",
    "team_mi"
   ]
  },
  {
   "cell_type": "markdown",
   "id": "cd1ad69c",
   "metadata": {
    "papermill": {
     "duration": 0.009291,
     "end_time": "2024-01-14T18:42:25.841789",
     "exception": false,
     "start_time": "2024-01-14T18:42:25.832498",
     "status": "completed"
    },
    "tags": []
   },
   "source": [
    "### 2. CSK: Chennai Super Kings"
   ]
  },
  {
   "cell_type": "code",
   "execution_count": 14,
   "id": "8013beea",
   "metadata": {
    "execution": {
     "iopub.execute_input": "2024-01-14T18:42:25.862871Z",
     "iopub.status.busy": "2024-01-14T18:42:25.862240Z",
     "iopub.status.idle": "2024-01-14T18:42:25.874357Z",
     "shell.execute_reply": "2024-01-14T18:42:25.872785Z"
    },
    "papermill": {
     "duration": 0.02546,
     "end_time": "2024-01-14T18:42:25.876909",
     "exception": false,
     "start_time": "2024-01-14T18:42:25.851449",
     "status": "completed"
    },
    "tags": []
   },
   "outputs": [
    {
     "data": {
      "text/html": [
       "<div>\n",
       "<style scoped>\n",
       "    .dataframe tbody tr th:only-of-type {\n",
       "        vertical-align: middle;\n",
       "    }\n",
       "\n",
       "    .dataframe tbody tr th {\n",
       "        vertical-align: top;\n",
       "    }\n",
       "\n",
       "    .dataframe thead th {\n",
       "        text-align: right;\n",
       "    }\n",
       "</style>\n",
       "<table border=\"1\" class=\"dataframe\">\n",
       "  <thead>\n",
       "    <tr style=\"text-align: right;\">\n",
       "      <th></th>\n",
       "      <th>PLAYERS</th>\n",
       "      <th>NATIONALITY</th>\n",
       "      <th>PLAYER_TYPE</th>\n",
       "      <th>PRICE_PAID</th>\n",
       "      <th>TEAM</th>\n",
       "    </tr>\n",
       "  </thead>\n",
       "  <tbody>\n",
       "    <tr>\n",
       "      <th>2</th>\n",
       "      <td>Daryl Mitchell</td>\n",
       "      <td>Overseas</td>\n",
       "      <td>All-Rounder</td>\n",
       "      <td>140000000</td>\n",
       "      <td>CSK</td>\n",
       "    </tr>\n",
       "    <tr>\n",
       "      <th>3</th>\n",
       "      <td>Sameer Rizvi</td>\n",
       "      <td>Indian</td>\n",
       "      <td>Batter</td>\n",
       "      <td>84000000</td>\n",
       "      <td>CSK</td>\n",
       "    </tr>\n",
       "    <tr>\n",
       "      <th>5</th>\n",
       "      <td>Shardul Thakur</td>\n",
       "      <td>Indian</td>\n",
       "      <td>All-Rounder</td>\n",
       "      <td>40000000</td>\n",
       "      <td>CSK</td>\n",
       "    </tr>\n",
       "    <tr>\n",
       "      <th>1</th>\n",
       "      <td>Mustafizur Rahman</td>\n",
       "      <td>Overseas</td>\n",
       "      <td>Bowler</td>\n",
       "      <td>20000000</td>\n",
       "      <td>CSK</td>\n",
       "    </tr>\n",
       "    <tr>\n",
       "      <th>4</th>\n",
       "      <td>Rachin Ravindra</td>\n",
       "      <td>Overseas</td>\n",
       "      <td>All-Rounder</td>\n",
       "      <td>18000000</td>\n",
       "      <td>CSK</td>\n",
       "    </tr>\n",
       "    <tr>\n",
       "      <th>0</th>\n",
       "      <td>Avanish Rao Aravelly</td>\n",
       "      <td>Indian</td>\n",
       "      <td>Wicket-Keeper</td>\n",
       "      <td>2000000</td>\n",
       "      <td>CSK</td>\n",
       "    </tr>\n",
       "  </tbody>\n",
       "</table>\n",
       "</div>"
      ],
      "text/plain": [
       "                PLAYERS NATIONALITY    PLAYER_TYPE  PRICE_PAID TEAM\n",
       "2        Daryl Mitchell    Overseas    All-Rounder   140000000  CSK\n",
       "3          Sameer Rizvi      Indian         Batter    84000000  CSK\n",
       "5        Shardul Thakur      Indian    All-Rounder    40000000  CSK\n",
       "1     Mustafizur Rahman    Overseas         Bowler    20000000  CSK\n",
       "4       Rachin Ravindra    Overseas    All-Rounder    18000000  CSK\n",
       "0  Avanish Rao Aravelly      Indian  Wicket-Keeper     2000000  CSK"
      ]
     },
     "execution_count": 14,
     "metadata": {},
     "output_type": "execute_result"
    }
   ],
   "source": [
    "team_csk = Teams_details('CSK')\n",
    "team_csk"
   ]
  },
  {
   "cell_type": "markdown",
   "id": "e66f990c",
   "metadata": {
    "papermill": {
     "duration": 0.009369,
     "end_time": "2024-01-14T18:42:25.896238",
     "exception": false,
     "start_time": "2024-01-14T18:42:25.886869",
     "status": "completed"
    },
    "tags": []
   },
   "source": [
    "### 3. DC: Delhi Capitals\n"
   ]
  },
  {
   "cell_type": "code",
   "execution_count": 15,
   "id": "75fe7ae3",
   "metadata": {
    "execution": {
     "iopub.execute_input": "2024-01-14T18:42:25.918660Z",
     "iopub.status.busy": "2024-01-14T18:42:25.918318Z",
     "iopub.status.idle": "2024-01-14T18:42:25.930841Z",
     "shell.execute_reply": "2024-01-14T18:42:25.929950Z"
    },
    "papermill": {
     "duration": 0.025724,
     "end_time": "2024-01-14T18:42:25.933064",
     "exception": false,
     "start_time": "2024-01-14T18:42:25.907340",
     "status": "completed"
    },
    "tags": []
   },
   "outputs": [
    {
     "data": {
      "text/html": [
       "<div>\n",
       "<style scoped>\n",
       "    .dataframe tbody tr th:only-of-type {\n",
       "        vertical-align: middle;\n",
       "    }\n",
       "\n",
       "    .dataframe tbody tr th {\n",
       "        vertical-align: top;\n",
       "    }\n",
       "\n",
       "    .dataframe thead th {\n",
       "        text-align: right;\n",
       "    }\n",
       "</style>\n",
       "<table border=\"1\" class=\"dataframe\">\n",
       "  <thead>\n",
       "    <tr style=\"text-align: right;\">\n",
       "      <th></th>\n",
       "      <th>PLAYERS</th>\n",
       "      <th>NATIONALITY</th>\n",
       "      <th>PLAYER_TYPE</th>\n",
       "      <th>PRICE_PAID</th>\n",
       "      <th>TEAM</th>\n",
       "    </tr>\n",
       "  </thead>\n",
       "  <tbody>\n",
       "    <tr>\n",
       "      <th>12</th>\n",
       "      <td>Kumar Kushagra</td>\n",
       "      <td>Indian</td>\n",
       "      <td>Wicket-Keeper</td>\n",
       "      <td>72000000</td>\n",
       "      <td>DC</td>\n",
       "    </tr>\n",
       "    <tr>\n",
       "      <th>9</th>\n",
       "      <td>Jhye Richardson</td>\n",
       "      <td>Overseas</td>\n",
       "      <td>Bowler</td>\n",
       "      <td>50000000</td>\n",
       "      <td>DC</td>\n",
       "    </tr>\n",
       "    <tr>\n",
       "      <th>14</th>\n",
       "      <td>Harry Brook</td>\n",
       "      <td>Overseas</td>\n",
       "      <td>Batter</td>\n",
       "      <td>40000000</td>\n",
       "      <td>DC</td>\n",
       "    </tr>\n",
       "    <tr>\n",
       "      <th>7</th>\n",
       "      <td>Sumit Kumar</td>\n",
       "      <td>Indian</td>\n",
       "      <td>All-Rounder</td>\n",
       "      <td>10000000</td>\n",
       "      <td>DC</td>\n",
       "    </tr>\n",
       "    <tr>\n",
       "      <th>10</th>\n",
       "      <td>Shai Hope</td>\n",
       "      <td>Overseas</td>\n",
       "      <td>Wicket-Keeper</td>\n",
       "      <td>7500000</td>\n",
       "      <td>DC</td>\n",
       "    </tr>\n",
       "    <tr>\n",
       "      <th>13</th>\n",
       "      <td>Tristan Stubbs</td>\n",
       "      <td>Overseas</td>\n",
       "      <td>Wicket-Keeper</td>\n",
       "      <td>5000000</td>\n",
       "      <td>DC</td>\n",
       "    </tr>\n",
       "    <tr>\n",
       "      <th>6</th>\n",
       "      <td>Ricky Bhui</td>\n",
       "      <td>Indian</td>\n",
       "      <td>Wicket-Keeper</td>\n",
       "      <td>2000000</td>\n",
       "      <td>DC</td>\n",
       "    </tr>\n",
       "    <tr>\n",
       "      <th>8</th>\n",
       "      <td>Swastik Chhikara</td>\n",
       "      <td>Indian</td>\n",
       "      <td>Batter</td>\n",
       "      <td>2000000</td>\n",
       "      <td>DC</td>\n",
       "    </tr>\n",
       "    <tr>\n",
       "      <th>11</th>\n",
       "      <td>Rasikh Dar</td>\n",
       "      <td>Indian</td>\n",
       "      <td>Bowler</td>\n",
       "      <td>2000000</td>\n",
       "      <td>DC</td>\n",
       "    </tr>\n",
       "  </tbody>\n",
       "</table>\n",
       "</div>"
      ],
      "text/plain": [
       "             PLAYERS NATIONALITY    PLAYER_TYPE  PRICE_PAID TEAM\n",
       "12    Kumar Kushagra      Indian  Wicket-Keeper    72000000   DC\n",
       "9    Jhye Richardson    Overseas         Bowler    50000000   DC\n",
       "14       Harry Brook    Overseas         Batter    40000000   DC\n",
       "7        Sumit Kumar      Indian    All-Rounder    10000000   DC\n",
       "10         Shai Hope    Overseas  Wicket-Keeper     7500000   DC\n",
       "13    Tristan Stubbs    Overseas  Wicket-Keeper     5000000   DC\n",
       "6         Ricky Bhui      Indian  Wicket-Keeper     2000000   DC\n",
       "8   Swastik Chhikara      Indian         Batter     2000000   DC\n",
       "11        Rasikh Dar      Indian         Bowler     2000000   DC"
      ]
     },
     "execution_count": 15,
     "metadata": {},
     "output_type": "execute_result"
    }
   ],
   "source": [
    "team_dc = Teams_details('DC')\n",
    "team_dc"
   ]
  },
  {
   "cell_type": "markdown",
   "id": "961c8465",
   "metadata": {
    "papermill": {
     "duration": 0.009895,
     "end_time": "2024-01-14T18:42:25.953244",
     "exception": false,
     "start_time": "2024-01-14T18:42:25.943349",
     "status": "completed"
    },
    "tags": []
   },
   "source": [
    "### 4. GT: Gujarat Titans"
   ]
  },
  {
   "cell_type": "code",
   "execution_count": 16,
   "id": "ce4341ed",
   "metadata": {
    "execution": {
     "iopub.execute_input": "2024-01-14T18:42:25.974534Z",
     "iopub.status.busy": "2024-01-14T18:42:25.973296Z",
     "iopub.status.idle": "2024-01-14T18:42:25.985728Z",
     "shell.execute_reply": "2024-01-14T18:42:25.984716Z"
    },
    "papermill": {
     "duration": 0.025449,
     "end_time": "2024-01-14T18:42:25.987982",
     "exception": false,
     "start_time": "2024-01-14T18:42:25.962533",
     "status": "completed"
    },
    "tags": []
   },
   "outputs": [
    {
     "data": {
      "text/html": [
       "<div>\n",
       "<style scoped>\n",
       "    .dataframe tbody tr th:only-of-type {\n",
       "        vertical-align: middle;\n",
       "    }\n",
       "\n",
       "    .dataframe tbody tr th {\n",
       "        vertical-align: top;\n",
       "    }\n",
       "\n",
       "    .dataframe thead th {\n",
       "        text-align: right;\n",
       "    }\n",
       "</style>\n",
       "<table border=\"1\" class=\"dataframe\">\n",
       "  <thead>\n",
       "    <tr style=\"text-align: right;\">\n",
       "      <th></th>\n",
       "      <th>PLAYERS</th>\n",
       "      <th>NATIONALITY</th>\n",
       "      <th>PLAYER_TYPE</th>\n",
       "      <th>PRICE_PAID</th>\n",
       "      <th>TEAM</th>\n",
       "    </tr>\n",
       "  </thead>\n",
       "  <tbody>\n",
       "    <tr>\n",
       "      <th>16</th>\n",
       "      <td>Spencer Johnson</td>\n",
       "      <td>Overseas</td>\n",
       "      <td>Bowler</td>\n",
       "      <td>100000000</td>\n",
       "      <td>GT</td>\n",
       "    </tr>\n",
       "    <tr>\n",
       "      <th>21</th>\n",
       "      <td>Shahrukh Khan</td>\n",
       "      <td>Indian</td>\n",
       "      <td>All-Rounder</td>\n",
       "      <td>74000000</td>\n",
       "      <td>GT</td>\n",
       "    </tr>\n",
       "    <tr>\n",
       "      <th>22</th>\n",
       "      <td>Umesh Yadav</td>\n",
       "      <td>Indian</td>\n",
       "      <td>Bowler</td>\n",
       "      <td>58000000</td>\n",
       "      <td>GT</td>\n",
       "    </tr>\n",
       "    <tr>\n",
       "      <th>18</th>\n",
       "      <td>Robin Minz</td>\n",
       "      <td>Indian</td>\n",
       "      <td>Wicket-Keeper</td>\n",
       "      <td>36000000</td>\n",
       "      <td>GT</td>\n",
       "    </tr>\n",
       "    <tr>\n",
       "      <th>19</th>\n",
       "      <td>Sushant Mishra</td>\n",
       "      <td>Indian</td>\n",
       "      <td>Bowler</td>\n",
       "      <td>22000000</td>\n",
       "      <td>GT</td>\n",
       "    </tr>\n",
       "    <tr>\n",
       "      <th>15</th>\n",
       "      <td>Kartik Tyagi</td>\n",
       "      <td>Indian</td>\n",
       "      <td>Bowler</td>\n",
       "      <td>6000000</td>\n",
       "      <td>GT</td>\n",
       "    </tr>\n",
       "    <tr>\n",
       "      <th>20</th>\n",
       "      <td>Azmatullah Omarzai</td>\n",
       "      <td>Overseas</td>\n",
       "      <td>All-Rounder</td>\n",
       "      <td>5000000</td>\n",
       "      <td>GT</td>\n",
       "    </tr>\n",
       "    <tr>\n",
       "      <th>17</th>\n",
       "      <td>Manav Suthar</td>\n",
       "      <td>Indian</td>\n",
       "      <td>Bowler</td>\n",
       "      <td>2000000</td>\n",
       "      <td>GT</td>\n",
       "    </tr>\n",
       "  </tbody>\n",
       "</table>\n",
       "</div>"
      ],
      "text/plain": [
       "               PLAYERS NATIONALITY    PLAYER_TYPE  PRICE_PAID TEAM\n",
       "16     Spencer Johnson    Overseas         Bowler   100000000   GT\n",
       "21       Shahrukh Khan      Indian    All-Rounder    74000000   GT\n",
       "22         Umesh Yadav      Indian         Bowler    58000000   GT\n",
       "18          Robin Minz      Indian  Wicket-Keeper    36000000   GT\n",
       "19      Sushant Mishra      Indian         Bowler    22000000   GT\n",
       "15        Kartik Tyagi      Indian         Bowler     6000000   GT\n",
       "20  Azmatullah Omarzai    Overseas    All-Rounder     5000000   GT\n",
       "17        Manav Suthar      Indian         Bowler     2000000   GT"
      ]
     },
     "execution_count": 16,
     "metadata": {},
     "output_type": "execute_result"
    }
   ],
   "source": [
    "team_gt = Teams_details('GT')\n",
    "team_gt"
   ]
  },
  {
   "cell_type": "markdown",
   "id": "3287bab7",
   "metadata": {
    "papermill": {
     "duration": 0.009697,
     "end_time": "2024-01-14T18:42:26.007861",
     "exception": false,
     "start_time": "2024-01-14T18:42:25.998164",
     "status": "completed"
    },
    "tags": []
   },
   "source": [
    "### 5. KKR: Kolkata Knight Riders"
   ]
  },
  {
   "cell_type": "code",
   "execution_count": 17,
   "id": "3089e63a",
   "metadata": {
    "execution": {
     "iopub.execute_input": "2024-01-14T18:42:26.029054Z",
     "iopub.status.busy": "2024-01-14T18:42:26.028719Z",
     "iopub.status.idle": "2024-01-14T18:42:26.040056Z",
     "shell.execute_reply": "2024-01-14T18:42:26.039416Z"
    },
    "papermill": {
     "duration": 0.024045,
     "end_time": "2024-01-14T18:42:26.041582",
     "exception": false,
     "start_time": "2024-01-14T18:42:26.017537",
     "status": "completed"
    },
    "tags": []
   },
   "outputs": [
    {
     "data": {
      "text/html": [
       "<div>\n",
       "<style scoped>\n",
       "    .dataframe tbody tr th:only-of-type {\n",
       "        vertical-align: middle;\n",
       "    }\n",
       "\n",
       "    .dataframe tbody tr th {\n",
       "        vertical-align: top;\n",
       "    }\n",
       "\n",
       "    .dataframe thead th {\n",
       "        text-align: right;\n",
       "    }\n",
       "</style>\n",
       "<table border=\"1\" class=\"dataframe\">\n",
       "  <thead>\n",
       "    <tr style=\"text-align: right;\">\n",
       "      <th></th>\n",
       "      <th>PLAYERS</th>\n",
       "      <th>NATIONALITY</th>\n",
       "      <th>PLAYER_TYPE</th>\n",
       "      <th>PRICE_PAID</th>\n",
       "      <th>TEAM</th>\n",
       "    </tr>\n",
       "  </thead>\n",
       "  <tbody>\n",
       "    <tr>\n",
       "      <th>27</th>\n",
       "      <td>Mitchell Starc</td>\n",
       "      <td>Overseas</td>\n",
       "      <td>Bowler</td>\n",
       "      <td>247500000</td>\n",
       "      <td>KKR</td>\n",
       "    </tr>\n",
       "    <tr>\n",
       "      <th>23</th>\n",
       "      <td>Mujeeb Rahman</td>\n",
       "      <td>Overseas</td>\n",
       "      <td>Bowler</td>\n",
       "      <td>20000000</td>\n",
       "      <td>KKR</td>\n",
       "    </tr>\n",
       "    <tr>\n",
       "      <th>28</th>\n",
       "      <td>Sherfane Rutherford</td>\n",
       "      <td>Overseas</td>\n",
       "      <td>Batter</td>\n",
       "      <td>15000000</td>\n",
       "      <td>KKR</td>\n",
       "    </tr>\n",
       "    <tr>\n",
       "      <th>25</th>\n",
       "      <td>Gus Atkinson</td>\n",
       "      <td>Overseas</td>\n",
       "      <td>Bowler</td>\n",
       "      <td>10000000</td>\n",
       "      <td>KKR</td>\n",
       "    </tr>\n",
       "    <tr>\n",
       "      <th>24</th>\n",
       "      <td>Manish Pandey</td>\n",
       "      <td>Indian</td>\n",
       "      <td>Batter</td>\n",
       "      <td>5000000</td>\n",
       "      <td>KKR</td>\n",
       "    </tr>\n",
       "    <tr>\n",
       "      <th>30</th>\n",
       "      <td>K.S. Bharat</td>\n",
       "      <td>Indian</td>\n",
       "      <td>Wicket-Keeper</td>\n",
       "      <td>5000000</td>\n",
       "      <td>KKR</td>\n",
       "    </tr>\n",
       "    <tr>\n",
       "      <th>31</th>\n",
       "      <td>Chetan Sakariya</td>\n",
       "      <td>Indian</td>\n",
       "      <td>Bowler</td>\n",
       "      <td>5000000</td>\n",
       "      <td>KKR</td>\n",
       "    </tr>\n",
       "    <tr>\n",
       "      <th>26</th>\n",
       "      <td>Angkrish Raghuvanshi</td>\n",
       "      <td>Indian</td>\n",
       "      <td>Batter</td>\n",
       "      <td>2000000</td>\n",
       "      <td>KKR</td>\n",
       "    </tr>\n",
       "    <tr>\n",
       "      <th>29</th>\n",
       "      <td>Ramandeep Singh</td>\n",
       "      <td>Indian</td>\n",
       "      <td>All-Rounder</td>\n",
       "      <td>2000000</td>\n",
       "      <td>KKR</td>\n",
       "    </tr>\n",
       "    <tr>\n",
       "      <th>32</th>\n",
       "      <td>Sakib Hussain</td>\n",
       "      <td>Indian</td>\n",
       "      <td>Bowler</td>\n",
       "      <td>2000000</td>\n",
       "      <td>KKR</td>\n",
       "    </tr>\n",
       "  </tbody>\n",
       "</table>\n",
       "</div>"
      ],
      "text/plain": [
       "                 PLAYERS NATIONALITY    PLAYER_TYPE  PRICE_PAID TEAM\n",
       "27        Mitchell Starc    Overseas         Bowler   247500000  KKR\n",
       "23         Mujeeb Rahman    Overseas         Bowler    20000000  KKR\n",
       "28   Sherfane Rutherford    Overseas         Batter    15000000  KKR\n",
       "25          Gus Atkinson    Overseas         Bowler    10000000  KKR\n",
       "24         Manish Pandey      Indian         Batter     5000000  KKR\n",
       "30           K.S. Bharat      Indian  Wicket-Keeper     5000000  KKR\n",
       "31       Chetan Sakariya      Indian         Bowler     5000000  KKR\n",
       "26  Angkrish Raghuvanshi      Indian         Batter     2000000  KKR\n",
       "29       Ramandeep Singh      Indian    All-Rounder     2000000  KKR\n",
       "32         Sakib Hussain      Indian         Bowler     2000000  KKR"
      ]
     },
     "execution_count": 17,
     "metadata": {},
     "output_type": "execute_result"
    }
   ],
   "source": [
    "team_kkr = Teams_details('KKR')\n",
    "team_kkr"
   ]
  },
  {
   "cell_type": "markdown",
   "id": "404889c2",
   "metadata": {
    "papermill": {
     "duration": 0.009486,
     "end_time": "2024-01-14T18:42:26.061092",
     "exception": false,
     "start_time": "2024-01-14T18:42:26.051606",
     "status": "completed"
    },
    "tags": []
   },
   "source": [
    "### 6. LSG: Lucknow Supergiants"
   ]
  },
  {
   "cell_type": "code",
   "execution_count": 18,
   "id": "4e1dcbf0",
   "metadata": {
    "execution": {
     "iopub.execute_input": "2024-01-14T18:42:26.083186Z",
     "iopub.status.busy": "2024-01-14T18:42:26.082479Z",
     "iopub.status.idle": "2024-01-14T18:42:26.093357Z",
     "shell.execute_reply": "2024-01-14T18:42:26.092316Z"
    },
    "papermill": {
     "duration": 0.024161,
     "end_time": "2024-01-14T18:42:26.095215",
     "exception": false,
     "start_time": "2024-01-14T18:42:26.071054",
     "status": "completed"
    },
    "tags": []
   },
   "outputs": [
    {
     "data": {
      "text/html": [
       "<div>\n",
       "<style scoped>\n",
       "    .dataframe tbody tr th:only-of-type {\n",
       "        vertical-align: middle;\n",
       "    }\n",
       "\n",
       "    .dataframe tbody tr th {\n",
       "        vertical-align: top;\n",
       "    }\n",
       "\n",
       "    .dataframe thead th {\n",
       "        text-align: right;\n",
       "    }\n",
       "</style>\n",
       "<table border=\"1\" class=\"dataframe\">\n",
       "  <thead>\n",
       "    <tr style=\"text-align: right;\">\n",
       "      <th></th>\n",
       "      <th>PLAYERS</th>\n",
       "      <th>NATIONALITY</th>\n",
       "      <th>PLAYER_TYPE</th>\n",
       "      <th>PRICE_PAID</th>\n",
       "      <th>TEAM</th>\n",
       "    </tr>\n",
       "  </thead>\n",
       "  <tbody>\n",
       "    <tr>\n",
       "      <th>36</th>\n",
       "      <td>Shivam Mavi</td>\n",
       "      <td>Indian</td>\n",
       "      <td>Bowler</td>\n",
       "      <td>64000000</td>\n",
       "      <td>LSG</td>\n",
       "    </tr>\n",
       "    <tr>\n",
       "      <th>35</th>\n",
       "      <td>M. Siddharth</td>\n",
       "      <td>Indian</td>\n",
       "      <td>Bowler</td>\n",
       "      <td>24000000</td>\n",
       "      <td>LSG</td>\n",
       "    </tr>\n",
       "    <tr>\n",
       "      <th>34</th>\n",
       "      <td>David Willey</td>\n",
       "      <td>Overseas</td>\n",
       "      <td>All-Rounder</td>\n",
       "      <td>20000000</td>\n",
       "      <td>LSG</td>\n",
       "    </tr>\n",
       "    <tr>\n",
       "      <th>33</th>\n",
       "      <td>Ashton Turner</td>\n",
       "      <td>Overseas</td>\n",
       "      <td>Batter</td>\n",
       "      <td>10000000</td>\n",
       "      <td>LSG</td>\n",
       "    </tr>\n",
       "    <tr>\n",
       "      <th>37</th>\n",
       "      <td>Arshin Kulkarni</td>\n",
       "      <td>Indian</td>\n",
       "      <td>All-Rounder</td>\n",
       "      <td>2000000</td>\n",
       "      <td>LSG</td>\n",
       "    </tr>\n",
       "    <tr>\n",
       "      <th>38</th>\n",
       "      <td>Mohd. Arshad Khan</td>\n",
       "      <td>Indian</td>\n",
       "      <td>All-Rounder</td>\n",
       "      <td>2000000</td>\n",
       "      <td>LSG</td>\n",
       "    </tr>\n",
       "  </tbody>\n",
       "</table>\n",
       "</div>"
      ],
      "text/plain": [
       "              PLAYERS NATIONALITY  PLAYER_TYPE  PRICE_PAID TEAM\n",
       "36        Shivam Mavi      Indian       Bowler    64000000  LSG\n",
       "35       M. Siddharth      Indian       Bowler    24000000  LSG\n",
       "34       David Willey    Overseas  All-Rounder    20000000  LSG\n",
       "33      Ashton Turner    Overseas       Batter    10000000  LSG\n",
       "37    Arshin Kulkarni      Indian  All-Rounder     2000000  LSG\n",
       "38  Mohd. Arshad Khan      Indian  All-Rounder     2000000  LSG"
      ]
     },
     "execution_count": 18,
     "metadata": {},
     "output_type": "execute_result"
    }
   ],
   "source": [
    "team_lsg = Teams_details('LSG')\n",
    "team_lsg"
   ]
  },
  {
   "cell_type": "markdown",
   "id": "f9da9ebd",
   "metadata": {
    "papermill": {
     "duration": 0.010006,
     "end_time": "2024-01-14T18:42:26.115830",
     "exception": false,
     "start_time": "2024-01-14T18:42:26.105824",
     "status": "completed"
    },
    "tags": []
   },
   "source": [
    "### 7. PK: Punjab Kings"
   ]
  },
  {
   "cell_type": "code",
   "execution_count": 19,
   "id": "8be469c3",
   "metadata": {
    "execution": {
     "iopub.execute_input": "2024-01-14T18:42:26.139829Z",
     "iopub.status.busy": "2024-01-14T18:42:26.139217Z",
     "iopub.status.idle": "2024-01-14T18:42:26.149666Z",
     "shell.execute_reply": "2024-01-14T18:42:26.148731Z"
    },
    "papermill": {
     "duration": 0.025488,
     "end_time": "2024-01-14T18:42:26.151771",
     "exception": false,
     "start_time": "2024-01-14T18:42:26.126283",
     "status": "completed"
    },
    "tags": []
   },
   "outputs": [
    {
     "data": {
      "text/html": [
       "<div>\n",
       "<style scoped>\n",
       "    .dataframe tbody tr th:only-of-type {\n",
       "        vertical-align: middle;\n",
       "    }\n",
       "\n",
       "    .dataframe tbody tr th {\n",
       "        vertical-align: top;\n",
       "    }\n",
       "\n",
       "    .dataframe thead th {\n",
       "        text-align: right;\n",
       "    }\n",
       "</style>\n",
       "<table border=\"1\" class=\"dataframe\">\n",
       "  <thead>\n",
       "    <tr style=\"text-align: right;\">\n",
       "      <th></th>\n",
       "      <th>PLAYERS</th>\n",
       "      <th>NATIONALITY</th>\n",
       "      <th>PLAYER_TYPE</th>\n",
       "      <th>PRICE_PAID</th>\n",
       "      <th>TEAM</th>\n",
       "    </tr>\n",
       "  </thead>\n",
       "  <tbody>\n",
       "    <tr>\n",
       "      <th>54</th>\n",
       "      <td>Harshal Patel</td>\n",
       "      <td>Indian</td>\n",
       "      <td>All-Rounder</td>\n",
       "      <td>117500000</td>\n",
       "      <td>PK</td>\n",
       "    </tr>\n",
       "    <tr>\n",
       "      <th>52</th>\n",
       "      <td>Rilee Rossouw</td>\n",
       "      <td>Overseas</td>\n",
       "      <td>Batter</td>\n",
       "      <td>80000000</td>\n",
       "      <td>PK</td>\n",
       "    </tr>\n",
       "    <tr>\n",
       "      <th>47</th>\n",
       "      <td>Chris Woakes</td>\n",
       "      <td>Overseas</td>\n",
       "      <td>All-Rounder</td>\n",
       "      <td>42000000</td>\n",
       "      <td>PK</td>\n",
       "    </tr>\n",
       "    <tr>\n",
       "      <th>48</th>\n",
       "      <td>Tanay Thyagarajann</td>\n",
       "      <td>Indian</td>\n",
       "      <td>All-Rounder</td>\n",
       "      <td>2000000</td>\n",
       "      <td>PK</td>\n",
       "    </tr>\n",
       "    <tr>\n",
       "      <th>49</th>\n",
       "      <td>Vishwanath Pratap Singh</td>\n",
       "      <td>Indian</td>\n",
       "      <td>All-Rounder</td>\n",
       "      <td>2000000</td>\n",
       "      <td>PK</td>\n",
       "    </tr>\n",
       "    <tr>\n",
       "      <th>50</th>\n",
       "      <td>Ashutosh Sharma</td>\n",
       "      <td>Indian</td>\n",
       "      <td>All-Rounder</td>\n",
       "      <td>2000000</td>\n",
       "      <td>PK</td>\n",
       "    </tr>\n",
       "    <tr>\n",
       "      <th>51</th>\n",
       "      <td>Shashank Singh</td>\n",
       "      <td>Indian</td>\n",
       "      <td>Batter</td>\n",
       "      <td>2000000</td>\n",
       "      <td>PK</td>\n",
       "    </tr>\n",
       "    <tr>\n",
       "      <th>53</th>\n",
       "      <td>Prince Choudhary</td>\n",
       "      <td>Indian</td>\n",
       "      <td>Bowler</td>\n",
       "      <td>2000000</td>\n",
       "      <td>PK</td>\n",
       "    </tr>\n",
       "  </tbody>\n",
       "</table>\n",
       "</div>"
      ],
      "text/plain": [
       "                    PLAYERS NATIONALITY  PLAYER_TYPE  PRICE_PAID TEAM\n",
       "54            Harshal Patel      Indian  All-Rounder   117500000   PK\n",
       "52            Rilee Rossouw    Overseas       Batter    80000000   PK\n",
       "47             Chris Woakes    Overseas  All-Rounder    42000000   PK\n",
       "48       Tanay Thyagarajann      Indian  All-Rounder     2000000   PK\n",
       "49  Vishwanath Pratap Singh      Indian  All-Rounder     2000000   PK\n",
       "50          Ashutosh Sharma      Indian  All-Rounder     2000000   PK\n",
       "51           Shashank Singh      Indian       Batter     2000000   PK\n",
       "53         Prince Choudhary      Indian       Bowler     2000000   PK"
      ]
     },
     "execution_count": 19,
     "metadata": {},
     "output_type": "execute_result"
    }
   ],
   "source": [
    "team_PK = Teams_details('PK')\n",
    "team_PK"
   ]
  },
  {
   "cell_type": "markdown",
   "id": "3aecc78a",
   "metadata": {
    "papermill": {
     "duration": 0.010522,
     "end_time": "2024-01-14T18:42:26.173272",
     "exception": false,
     "start_time": "2024-01-14T18:42:26.162750",
     "status": "completed"
    },
    "tags": []
   },
   "source": [
    "### 8. RR: Rajasthan Royals"
   ]
  },
  {
   "cell_type": "code",
   "execution_count": 20,
   "id": "657a4f7f",
   "metadata": {
    "execution": {
     "iopub.execute_input": "2024-01-14T18:42:26.196513Z",
     "iopub.status.busy": "2024-01-14T18:42:26.196182Z",
     "iopub.status.idle": "2024-01-14T18:42:26.207355Z",
     "shell.execute_reply": "2024-01-14T18:42:26.206103Z"
    },
    "papermill": {
     "duration": 0.025897,
     "end_time": "2024-01-14T18:42:26.210022",
     "exception": false,
     "start_time": "2024-01-14T18:42:26.184125",
     "status": "completed"
    },
    "tags": []
   },
   "outputs": [
    {
     "data": {
      "text/html": [
       "<div>\n",
       "<style scoped>\n",
       "    .dataframe tbody tr th:only-of-type {\n",
       "        vertical-align: middle;\n",
       "    }\n",
       "\n",
       "    .dataframe tbody tr th {\n",
       "        vertical-align: top;\n",
       "    }\n",
       "\n",
       "    .dataframe thead th {\n",
       "        text-align: right;\n",
       "    }\n",
       "</style>\n",
       "<table border=\"1\" class=\"dataframe\">\n",
       "  <thead>\n",
       "    <tr style=\"text-align: right;\">\n",
       "      <th></th>\n",
       "      <th>PLAYERS</th>\n",
       "      <th>NATIONALITY</th>\n",
       "      <th>PLAYER_TYPE</th>\n",
       "      <th>PRICE_PAID</th>\n",
       "      <th>TEAM</th>\n",
       "    </tr>\n",
       "  </thead>\n",
       "  <tbody>\n",
       "    <tr>\n",
       "      <th>56</th>\n",
       "      <td>Rovman Powell</td>\n",
       "      <td>Overseas</td>\n",
       "      <td>Batter</td>\n",
       "      <td>74000000</td>\n",
       "      <td>RR</td>\n",
       "    </tr>\n",
       "    <tr>\n",
       "      <th>55</th>\n",
       "      <td>Shubham Dubey</td>\n",
       "      <td>Indian</td>\n",
       "      <td>Batter</td>\n",
       "      <td>58000000</td>\n",
       "      <td>RR</td>\n",
       "    </tr>\n",
       "    <tr>\n",
       "      <th>58</th>\n",
       "      <td>Nandre Burger</td>\n",
       "      <td>Overseas</td>\n",
       "      <td>Bowler</td>\n",
       "      <td>5000000</td>\n",
       "      <td>RR</td>\n",
       "    </tr>\n",
       "    <tr>\n",
       "      <th>59</th>\n",
       "      <td>Tom Kohler-Cadmore</td>\n",
       "      <td>Overseas</td>\n",
       "      <td>Wicket-Keeper</td>\n",
       "      <td>4000000</td>\n",
       "      <td>RR</td>\n",
       "    </tr>\n",
       "    <tr>\n",
       "      <th>57</th>\n",
       "      <td>Abid Mushtaq</td>\n",
       "      <td>Indian</td>\n",
       "      <td>All-Rounder</td>\n",
       "      <td>2000000</td>\n",
       "      <td>RR</td>\n",
       "    </tr>\n",
       "  </tbody>\n",
       "</table>\n",
       "</div>"
      ],
      "text/plain": [
       "               PLAYERS NATIONALITY    PLAYER_TYPE  PRICE_PAID TEAM\n",
       "56       Rovman Powell    Overseas         Batter    74000000   RR\n",
       "55       Shubham Dubey      Indian         Batter    58000000   RR\n",
       "58       Nandre Burger    Overseas         Bowler     5000000   RR\n",
       "59  Tom Kohler-Cadmore    Overseas  Wicket-Keeper     4000000   RR\n",
       "57        Abid Mushtaq      Indian    All-Rounder     2000000   RR"
      ]
     },
     "execution_count": 20,
     "metadata": {},
     "output_type": "execute_result"
    }
   ],
   "source": [
    "team_rr = Teams_details('RR')\n",
    "team_rr"
   ]
  },
  {
   "cell_type": "markdown",
   "id": "d98174c3",
   "metadata": {
    "papermill": {
     "duration": 0.011293,
     "end_time": "2024-01-14T18:42:26.232442",
     "exception": false,
     "start_time": "2024-01-14T18:42:26.221149",
     "status": "completed"
    },
    "tags": []
   },
   "source": [
    "### 9. RCB: Royal Challengers Bangalore"
   ]
  },
  {
   "cell_type": "code",
   "execution_count": 21,
   "id": "751138fb",
   "metadata": {
    "execution": {
     "iopub.execute_input": "2024-01-14T18:42:26.256870Z",
     "iopub.status.busy": "2024-01-14T18:42:26.256374Z",
     "iopub.status.idle": "2024-01-14T18:42:26.267786Z",
     "shell.execute_reply": "2024-01-14T18:42:26.266781Z"
    },
    "papermill": {
     "duration": 0.025581,
     "end_time": "2024-01-14T18:42:26.269493",
     "exception": false,
     "start_time": "2024-01-14T18:42:26.243912",
     "status": "completed"
    },
    "tags": []
   },
   "outputs": [
    {
     "data": {
      "text/html": [
       "<div>\n",
       "<style scoped>\n",
       "    .dataframe tbody tr th:only-of-type {\n",
       "        vertical-align: middle;\n",
       "    }\n",
       "\n",
       "    .dataframe tbody tr th {\n",
       "        vertical-align: top;\n",
       "    }\n",
       "\n",
       "    .dataframe thead th {\n",
       "        text-align: right;\n",
       "    }\n",
       "</style>\n",
       "<table border=\"1\" class=\"dataframe\">\n",
       "  <thead>\n",
       "    <tr style=\"text-align: right;\">\n",
       "      <th></th>\n",
       "      <th>PLAYERS</th>\n",
       "      <th>NATIONALITY</th>\n",
       "      <th>PLAYER_TYPE</th>\n",
       "      <th>PRICE_PAID</th>\n",
       "      <th>TEAM</th>\n",
       "    </tr>\n",
       "  </thead>\n",
       "  <tbody>\n",
       "    <tr>\n",
       "      <th>63</th>\n",
       "      <td>Alzarri Joseph</td>\n",
       "      <td>Overseas</td>\n",
       "      <td>Bowler</td>\n",
       "      <td>115000000</td>\n",
       "      <td>RCB</td>\n",
       "    </tr>\n",
       "    <tr>\n",
       "      <th>65</th>\n",
       "      <td>Yash Dayal</td>\n",
       "      <td>Indian</td>\n",
       "      <td>Bowler</td>\n",
       "      <td>50000000</td>\n",
       "      <td>RCB</td>\n",
       "    </tr>\n",
       "    <tr>\n",
       "      <th>60</th>\n",
       "      <td>Lockie Ferguson</td>\n",
       "      <td>Overseas</td>\n",
       "      <td>Bowler</td>\n",
       "      <td>20000000</td>\n",
       "      <td>RCB</td>\n",
       "    </tr>\n",
       "    <tr>\n",
       "      <th>61</th>\n",
       "      <td>Tom Curran</td>\n",
       "      <td>Overseas</td>\n",
       "      <td>All-Rounder</td>\n",
       "      <td>15000000</td>\n",
       "      <td>RCB</td>\n",
       "    </tr>\n",
       "    <tr>\n",
       "      <th>62</th>\n",
       "      <td>Saurav Chuahan</td>\n",
       "      <td>Indian</td>\n",
       "      <td>Batter</td>\n",
       "      <td>2000000</td>\n",
       "      <td>RCB</td>\n",
       "    </tr>\n",
       "    <tr>\n",
       "      <th>64</th>\n",
       "      <td>Swapnil Singh</td>\n",
       "      <td>Indian</td>\n",
       "      <td>All-Rounder</td>\n",
       "      <td>2000000</td>\n",
       "      <td>RCB</td>\n",
       "    </tr>\n",
       "  </tbody>\n",
       "</table>\n",
       "</div>"
      ],
      "text/plain": [
       "            PLAYERS NATIONALITY  PLAYER_TYPE  PRICE_PAID TEAM\n",
       "63   Alzarri Joseph    Overseas       Bowler   115000000  RCB\n",
       "65       Yash Dayal      Indian       Bowler    50000000  RCB\n",
       "60  Lockie Ferguson    Overseas       Bowler    20000000  RCB\n",
       "61       Tom Curran    Overseas  All-Rounder    15000000  RCB\n",
       "62   Saurav Chuahan      Indian       Batter     2000000  RCB\n",
       "64    Swapnil Singh      Indian  All-Rounder     2000000  RCB"
      ]
     },
     "execution_count": 21,
     "metadata": {},
     "output_type": "execute_result"
    }
   ],
   "source": [
    "team_rcb = Teams_details('RCB')\n",
    "team_rcb"
   ]
  },
  {
   "cell_type": "markdown",
   "id": "4b003e5f",
   "metadata": {
    "papermill": {
     "duration": 0.010534,
     "end_time": "2024-01-14T18:42:26.290869",
     "exception": false,
     "start_time": "2024-01-14T18:42:26.280335",
     "status": "completed"
    },
    "tags": []
   },
   "source": [
    "### 10. SH: Sunrisers Hyderabad"
   ]
  },
  {
   "cell_type": "code",
   "execution_count": 22,
   "id": "1a45100a",
   "metadata": {
    "execution": {
     "iopub.execute_input": "2024-01-14T18:42:26.315278Z",
     "iopub.status.busy": "2024-01-14T18:42:26.313579Z",
     "iopub.status.idle": "2024-01-14T18:42:26.327593Z",
     "shell.execute_reply": "2024-01-14T18:42:26.325903Z"
    },
    "papermill": {
     "duration": 0.028054,
     "end_time": "2024-01-14T18:42:26.329724",
     "exception": false,
     "start_time": "2024-01-14T18:42:26.301670",
     "status": "completed"
    },
    "tags": []
   },
   "outputs": [
    {
     "data": {
      "text/html": [
       "<div>\n",
       "<style scoped>\n",
       "    .dataframe tbody tr th:only-of-type {\n",
       "        vertical-align: middle;\n",
       "    }\n",
       "\n",
       "    .dataframe tbody tr th {\n",
       "        vertical-align: top;\n",
       "    }\n",
       "\n",
       "    .dataframe thead th {\n",
       "        text-align: right;\n",
       "    }\n",
       "</style>\n",
       "<table border=\"1\" class=\"dataframe\">\n",
       "  <thead>\n",
       "    <tr style=\"text-align: right;\">\n",
       "      <th></th>\n",
       "      <th>PLAYERS</th>\n",
       "      <th>NATIONALITY</th>\n",
       "      <th>PLAYER_TYPE</th>\n",
       "      <th>PRICE_PAID</th>\n",
       "      <th>TEAM</th>\n",
       "    </tr>\n",
       "  </thead>\n",
       "  <tbody>\n",
       "    <tr>\n",
       "      <th>70</th>\n",
       "      <td>Pat Cummins</td>\n",
       "      <td>Overseas</td>\n",
       "      <td>All-Rounder</td>\n",
       "      <td>205000000</td>\n",
       "      <td>SH</td>\n",
       "    </tr>\n",
       "    <tr>\n",
       "      <th>71</th>\n",
       "      <td>Travis Head</td>\n",
       "      <td>Overseas</td>\n",
       "      <td>Batter</td>\n",
       "      <td>68000000</td>\n",
       "      <td>SH</td>\n",
       "    </tr>\n",
       "    <tr>\n",
       "      <th>68</th>\n",
       "      <td>Jaydev Unadkat</td>\n",
       "      <td>Indian</td>\n",
       "      <td>Bowler</td>\n",
       "      <td>16000000</td>\n",
       "      <td>SH</td>\n",
       "    </tr>\n",
       "    <tr>\n",
       "      <th>69</th>\n",
       "      <td>Wanindu Hasaranga</td>\n",
       "      <td>Overseas</td>\n",
       "      <td>All-Rounder</td>\n",
       "      <td>15000000</td>\n",
       "      <td>SH</td>\n",
       "    </tr>\n",
       "    <tr>\n",
       "      <th>66</th>\n",
       "      <td>Jhathavedh Subramanyan</td>\n",
       "      <td>Indian</td>\n",
       "      <td>Bowler</td>\n",
       "      <td>2000000</td>\n",
       "      <td>SH</td>\n",
       "    </tr>\n",
       "    <tr>\n",
       "      <th>67</th>\n",
       "      <td>Akash Singh</td>\n",
       "      <td>Indian</td>\n",
       "      <td>Bowler</td>\n",
       "      <td>2000000</td>\n",
       "      <td>SH</td>\n",
       "    </tr>\n",
       "  </tbody>\n",
       "</table>\n",
       "</div>"
      ],
      "text/plain": [
       "                   PLAYERS NATIONALITY  PLAYER_TYPE  PRICE_PAID TEAM\n",
       "70             Pat Cummins    Overseas  All-Rounder   205000000   SH\n",
       "71             Travis Head    Overseas       Batter    68000000   SH\n",
       "68          Jaydev Unadkat      Indian       Bowler    16000000   SH\n",
       "69       Wanindu Hasaranga    Overseas  All-Rounder    15000000   SH\n",
       "66  Jhathavedh Subramanyan      Indian       Bowler     2000000   SH\n",
       "67             Akash Singh      Indian       Bowler     2000000   SH"
      ]
     },
     "execution_count": 22,
     "metadata": {},
     "output_type": "execute_result"
    }
   ],
   "source": [
    "team_sh = Teams_details('SH')\n",
    "team_sh"
   ]
  }
 ],
 "metadata": {
  "kaggle": {
   "accelerator": "none",
   "dataSources": [
    {
     "datasetId": 4199626,
     "sourceId": 7248789,
     "sourceType": "datasetVersion"
    }
   ],
   "dockerImageVersionId": 30635,
   "isGpuEnabled": false,
   "isInternetEnabled": true,
   "language": "python",
   "sourceType": "notebook"
  },
  "kernelspec": {
   "display_name": "Python 3",
   "language": "python",
   "name": "python3"
  },
  "language_info": {
   "codemirror_mode": {
    "name": "ipython",
    "version": 3
   },
   "file_extension": ".py",
   "mimetype": "text/x-python",
   "name": "python",
   "nbconvert_exporter": "python",
   "pygments_lexer": "ipython3",
   "version": "3.10.12"
  },
  "papermill": {
   "default_parameters": {},
   "duration": 6.472393,
   "end_time": "2024-01-14T18:42:26.861266",
   "environment_variables": {},
   "exception": null,
   "input_path": "__notebook__.ipynb",
   "output_path": "__notebook__.ipynb",
   "parameters": {},
   "start_time": "2024-01-14T18:42:20.388873",
   "version": "2.4.0"
  }
 },
 "nbformat": 4,
 "nbformat_minor": 5
}
